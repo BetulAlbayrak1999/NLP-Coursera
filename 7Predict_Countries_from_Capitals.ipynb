{
  "nbformat": 4,
  "nbformat_minor": 0,
  "metadata": {
    "colab": {
      "provenance": [],
      "gpuType": "T4"
    },
    "kernelspec": {
      "name": "python3",
      "display_name": "Python 3"
    },
    "language_info": {
      "name": "python"
    },
    "accelerator": "GPU"
  },
  "cells": [
    {
      "cell_type": "markdown",
      "source": [
        "# **Hello Vectors**\n",
        "\n",
        "In natural language processing, we represent each word as a vector consisting of numbers.\n",
        "The vector encodes the meaning of the word. These numbers (or weights) for each word are learned using various machine\n",
        "learning models, which we will explore in more detail later in this specialization. Rather than make you code the\n",
        "machine learning models from scratch, we will show you how to use them. In the real world, you can always load the\n",
        "trained word vectors, and you will almost never have to train them from scratch. In this assignment you will\n",
        "\n",
        "- Predict analogies between words.\n",
        "- Use PCA to reduce the dimensionality of the word embeddings and plot them in two dimensions.\n",
        "- Compare word embeddings by using a similarity measure (the cosine similarity).\n",
        "- Understand how these vector space models work.\n"
      ],
      "metadata": {
        "id": "vWsHgJp_xJLK"
      }
    },
    {
      "cell_type": "markdown",
      "source": [
        "<a name='1'></a>\n",
        "## **1 - Predict the Countries from Capitals**\n",
        "\n",
        "During the presentation of the module, we have illustrated the word analogies\n",
        "by finding the capital of a country from the country. In this part of the assignment\n",
        "we have changed the problem a bit. You are asked to predict the **countries**\n",
        "that correspond to some **capitals**.\n",
        "You are playing trivia against some second grader who just took their geography test and knows all the capitals by heart.\n",
        "Thanks to NLP, you will be able to answer the questions properly. In other words, you will write a program that can give\n",
        "you the country by its capital. That way you are pretty sure you will win the trivia game. We will start by exploring the data set.\n",
        "\n",
        "\n",
        "<a name='1-1'></a>\n",
        "###  **1.1 Importing the Data**\n",
        "\n",
        "As usual, you start by importing some essential Python libraries and the load dataset.\n",
        "The dataset will be loaded as a [Pandas DataFrame](https://pandas.pydata.org/pandas-docs/stable/getting_started/dsintro.html),\n",
        "which is very a common method in data science. Because of the large size of the data,\n",
        "this may take a few minutes."
      ],
      "metadata": {
        "id": "xXFBz-_PxSow"
      }
    },
    {
      "cell_type": "code",
      "execution_count": 2,
      "metadata": {
        "id": "ydDAldGdPDuk"
      },
      "outputs": [],
      "source": [
        "import pickle\n",
        "import numpy as np\n",
        "import pandas as pd\n",
        "import matplotlib.pyplot as plt"
      ]
    },
    {
      "cell_type": "code",
      "source": [
        "def get_vectors(embeddings, words):\n",
        "  \"\"\"\n",
        "  Input:\n",
        "    embeddings: a word\n",
        "    fr_embeddings:\n",
        "    words: a list of words\n",
        "  Output:\n",
        "    x: a matrix where the rows are the embeddings corresponding to the rows on this list\n",
        "  \"\"\"\n",
        "\n",
        "  m= len(words)\n",
        "  X= np.zeros((1, 300))\n",
        "  for word in words:\n",
        "    english= word\n",
        "    eng_emb= embeddings[english]\n",
        "    X= np.row_stack((X, eng_emb))\n",
        "  X= X[1:, :]\n",
        "  return X\n"
      ],
      "metadata": {
        "id": "rdg1ywJIyAuB"
      },
      "execution_count": 39,
      "outputs": []
    },
    {
      "cell_type": "code",
      "source": [
        "data= pd.read_csv(\"/content/capitals.txt\", delimiter= \" \")\n",
        "data.columns= [\"city1\", \"country1\", \"city2\", \"country2\"]\n",
        "\n",
        "data.head(5)"
      ],
      "metadata": {
        "colab": {
          "base_uri": "https://localhost:8080/",
          "height": 206
        },
        "id": "CF-8E9CJ0UEF",
        "outputId": "731980a3-5431-4bb5-942a-3ef25f373c41"
      },
      "execution_count": 21,
      "outputs": [
        {
          "output_type": "execute_result",
          "data": {
            "text/plain": [
              "    city1 country1    city2     country2\n",
              "0  Athens   Greece  Bangkok     Thailand\n",
              "1  Athens   Greece  Beijing        China\n",
              "2  Athens   Greece   Berlin      Germany\n",
              "3  Athens   Greece     Bern  Switzerland\n",
              "4  Athens   Greece    Cairo        Egypt"
            ],
            "text/html": [
              "\n",
              "  <div id=\"df-57675da5-7947-4716-8ca9-6912b9854de7\" class=\"colab-df-container\">\n",
              "    <div>\n",
              "<style scoped>\n",
              "    .dataframe tbody tr th:only-of-type {\n",
              "        vertical-align: middle;\n",
              "    }\n",
              "\n",
              "    .dataframe tbody tr th {\n",
              "        vertical-align: top;\n",
              "    }\n",
              "\n",
              "    .dataframe thead th {\n",
              "        text-align: right;\n",
              "    }\n",
              "</style>\n",
              "<table border=\"1\" class=\"dataframe\">\n",
              "  <thead>\n",
              "    <tr style=\"text-align: right;\">\n",
              "      <th></th>\n",
              "      <th>city1</th>\n",
              "      <th>country1</th>\n",
              "      <th>city2</th>\n",
              "      <th>country2</th>\n",
              "    </tr>\n",
              "  </thead>\n",
              "  <tbody>\n",
              "    <tr>\n",
              "      <th>0</th>\n",
              "      <td>Athens</td>\n",
              "      <td>Greece</td>\n",
              "      <td>Bangkok</td>\n",
              "      <td>Thailand</td>\n",
              "    </tr>\n",
              "    <tr>\n",
              "      <th>1</th>\n",
              "      <td>Athens</td>\n",
              "      <td>Greece</td>\n",
              "      <td>Beijing</td>\n",
              "      <td>China</td>\n",
              "    </tr>\n",
              "    <tr>\n",
              "      <th>2</th>\n",
              "      <td>Athens</td>\n",
              "      <td>Greece</td>\n",
              "      <td>Berlin</td>\n",
              "      <td>Germany</td>\n",
              "    </tr>\n",
              "    <tr>\n",
              "      <th>3</th>\n",
              "      <td>Athens</td>\n",
              "      <td>Greece</td>\n",
              "      <td>Bern</td>\n",
              "      <td>Switzerland</td>\n",
              "    </tr>\n",
              "    <tr>\n",
              "      <th>4</th>\n",
              "      <td>Athens</td>\n",
              "      <td>Greece</td>\n",
              "      <td>Cairo</td>\n",
              "      <td>Egypt</td>\n",
              "    </tr>\n",
              "  </tbody>\n",
              "</table>\n",
              "</div>\n",
              "    <div class=\"colab-df-buttons\">\n",
              "\n",
              "  <div class=\"colab-df-container\">\n",
              "    <button class=\"colab-df-convert\" onclick=\"convertToInteractive('df-57675da5-7947-4716-8ca9-6912b9854de7')\"\n",
              "            title=\"Convert this dataframe to an interactive table.\"\n",
              "            style=\"display:none;\">\n",
              "\n",
              "  <svg xmlns=\"http://www.w3.org/2000/svg\" height=\"24px\" viewBox=\"0 -960 960 960\">\n",
              "    <path d=\"M120-120v-720h720v720H120Zm60-500h600v-160H180v160Zm220 220h160v-160H400v160Zm0 220h160v-160H400v160ZM180-400h160v-160H180v160Zm440 0h160v-160H620v160ZM180-180h160v-160H180v160Zm440 0h160v-160H620v160Z\"/>\n",
              "  </svg>\n",
              "    </button>\n",
              "\n",
              "  <style>\n",
              "    .colab-df-container {\n",
              "      display:flex;\n",
              "      gap: 12px;\n",
              "    }\n",
              "\n",
              "    .colab-df-convert {\n",
              "      background-color: #E8F0FE;\n",
              "      border: none;\n",
              "      border-radius: 50%;\n",
              "      cursor: pointer;\n",
              "      display: none;\n",
              "      fill: #1967D2;\n",
              "      height: 32px;\n",
              "      padding: 0 0 0 0;\n",
              "      width: 32px;\n",
              "    }\n",
              "\n",
              "    .colab-df-convert:hover {\n",
              "      background-color: #E2EBFA;\n",
              "      box-shadow: 0px 1px 2px rgba(60, 64, 67, 0.3), 0px 1px 3px 1px rgba(60, 64, 67, 0.15);\n",
              "      fill: #174EA6;\n",
              "    }\n",
              "\n",
              "    .colab-df-buttons div {\n",
              "      margin-bottom: 4px;\n",
              "    }\n",
              "\n",
              "    [theme=dark] .colab-df-convert {\n",
              "      background-color: #3B4455;\n",
              "      fill: #D2E3FC;\n",
              "    }\n",
              "\n",
              "    [theme=dark] .colab-df-convert:hover {\n",
              "      background-color: #434B5C;\n",
              "      box-shadow: 0px 1px 3px 1px rgba(0, 0, 0, 0.15);\n",
              "      filter: drop-shadow(0px 1px 2px rgba(0, 0, 0, 0.3));\n",
              "      fill: #FFFFFF;\n",
              "    }\n",
              "  </style>\n",
              "\n",
              "    <script>\n",
              "      const buttonEl =\n",
              "        document.querySelector('#df-57675da5-7947-4716-8ca9-6912b9854de7 button.colab-df-convert');\n",
              "      buttonEl.style.display =\n",
              "        google.colab.kernel.accessAllowed ? 'block' : 'none';\n",
              "\n",
              "      async function convertToInteractive(key) {\n",
              "        const element = document.querySelector('#df-57675da5-7947-4716-8ca9-6912b9854de7');\n",
              "        const dataTable =\n",
              "          await google.colab.kernel.invokeFunction('convertToInteractive',\n",
              "                                                    [key], {});\n",
              "        if (!dataTable) return;\n",
              "\n",
              "        const docLinkHtml = 'Like what you see? Visit the ' +\n",
              "          '<a target=\"_blank\" href=https://colab.research.google.com/notebooks/data_table.ipynb>data table notebook</a>'\n",
              "          + ' to learn more about interactive tables.';\n",
              "        element.innerHTML = '';\n",
              "        dataTable['output_type'] = 'display_data';\n",
              "        await google.colab.output.renderOutput(dataTable, element);\n",
              "        const docLink = document.createElement('div');\n",
              "        docLink.innerHTML = docLinkHtml;\n",
              "        element.appendChild(docLink);\n",
              "      }\n",
              "    </script>\n",
              "  </div>\n",
              "\n",
              "\n",
              "    <div id=\"df-1afc6523-0de2-492d-b80d-bba6a90f10bd\">\n",
              "      <button class=\"colab-df-quickchart\" onclick=\"quickchart('df-1afc6523-0de2-492d-b80d-bba6a90f10bd')\"\n",
              "                title=\"Suggest charts\"\n",
              "                style=\"display:none;\">\n",
              "\n",
              "<svg xmlns=\"http://www.w3.org/2000/svg\" height=\"24px\"viewBox=\"0 0 24 24\"\n",
              "     width=\"24px\">\n",
              "    <g>\n",
              "        <path d=\"M19 3H5c-1.1 0-2 .9-2 2v14c0 1.1.9 2 2 2h14c1.1 0 2-.9 2-2V5c0-1.1-.9-2-2-2zM9 17H7v-7h2v7zm4 0h-2V7h2v10zm4 0h-2v-4h2v4z\"/>\n",
              "    </g>\n",
              "</svg>\n",
              "      </button>\n",
              "\n",
              "<style>\n",
              "  .colab-df-quickchart {\n",
              "      --bg-color: #E8F0FE;\n",
              "      --fill-color: #1967D2;\n",
              "      --hover-bg-color: #E2EBFA;\n",
              "      --hover-fill-color: #174EA6;\n",
              "      --disabled-fill-color: #AAA;\n",
              "      --disabled-bg-color: #DDD;\n",
              "  }\n",
              "\n",
              "  [theme=dark] .colab-df-quickchart {\n",
              "      --bg-color: #3B4455;\n",
              "      --fill-color: #D2E3FC;\n",
              "      --hover-bg-color: #434B5C;\n",
              "      --hover-fill-color: #FFFFFF;\n",
              "      --disabled-bg-color: #3B4455;\n",
              "      --disabled-fill-color: #666;\n",
              "  }\n",
              "\n",
              "  .colab-df-quickchart {\n",
              "    background-color: var(--bg-color);\n",
              "    border: none;\n",
              "    border-radius: 50%;\n",
              "    cursor: pointer;\n",
              "    display: none;\n",
              "    fill: var(--fill-color);\n",
              "    height: 32px;\n",
              "    padding: 0;\n",
              "    width: 32px;\n",
              "  }\n",
              "\n",
              "  .colab-df-quickchart:hover {\n",
              "    background-color: var(--hover-bg-color);\n",
              "    box-shadow: 0 1px 2px rgba(60, 64, 67, 0.3), 0 1px 3px 1px rgba(60, 64, 67, 0.15);\n",
              "    fill: var(--button-hover-fill-color);\n",
              "  }\n",
              "\n",
              "  .colab-df-quickchart-complete:disabled,\n",
              "  .colab-df-quickchart-complete:disabled:hover {\n",
              "    background-color: var(--disabled-bg-color);\n",
              "    fill: var(--disabled-fill-color);\n",
              "    box-shadow: none;\n",
              "  }\n",
              "\n",
              "  .colab-df-spinner {\n",
              "    border: 2px solid var(--fill-color);\n",
              "    border-color: transparent;\n",
              "    border-bottom-color: var(--fill-color);\n",
              "    animation:\n",
              "      spin 1s steps(1) infinite;\n",
              "  }\n",
              "\n",
              "  @keyframes spin {\n",
              "    0% {\n",
              "      border-color: transparent;\n",
              "      border-bottom-color: var(--fill-color);\n",
              "      border-left-color: var(--fill-color);\n",
              "    }\n",
              "    20% {\n",
              "      border-color: transparent;\n",
              "      border-left-color: var(--fill-color);\n",
              "      border-top-color: var(--fill-color);\n",
              "    }\n",
              "    30% {\n",
              "      border-color: transparent;\n",
              "      border-left-color: var(--fill-color);\n",
              "      border-top-color: var(--fill-color);\n",
              "      border-right-color: var(--fill-color);\n",
              "    }\n",
              "    40% {\n",
              "      border-color: transparent;\n",
              "      border-right-color: var(--fill-color);\n",
              "      border-top-color: var(--fill-color);\n",
              "    }\n",
              "    60% {\n",
              "      border-color: transparent;\n",
              "      border-right-color: var(--fill-color);\n",
              "    }\n",
              "    80% {\n",
              "      border-color: transparent;\n",
              "      border-right-color: var(--fill-color);\n",
              "      border-bottom-color: var(--fill-color);\n",
              "    }\n",
              "    90% {\n",
              "      border-color: transparent;\n",
              "      border-bottom-color: var(--fill-color);\n",
              "    }\n",
              "  }\n",
              "</style>\n",
              "\n",
              "      <script>\n",
              "        async function quickchart(key) {\n",
              "          const quickchartButtonEl =\n",
              "            document.querySelector('#' + key + ' button');\n",
              "          quickchartButtonEl.disabled = true;  // To prevent multiple clicks.\n",
              "          quickchartButtonEl.classList.add('colab-df-spinner');\n",
              "          try {\n",
              "            const charts = await google.colab.kernel.invokeFunction(\n",
              "                'suggestCharts', [key], {});\n",
              "          } catch (error) {\n",
              "            console.error('Error during call to suggestCharts:', error);\n",
              "          }\n",
              "          quickchartButtonEl.classList.remove('colab-df-spinner');\n",
              "          quickchartButtonEl.classList.add('colab-df-quickchart-complete');\n",
              "        }\n",
              "        (() => {\n",
              "          let quickchartButtonEl =\n",
              "            document.querySelector('#df-1afc6523-0de2-492d-b80d-bba6a90f10bd button');\n",
              "          quickchartButtonEl.style.display =\n",
              "            google.colab.kernel.accessAllowed ? 'block' : 'none';\n",
              "        })();\n",
              "      </script>\n",
              "    </div>\n",
              "\n",
              "    </div>\n",
              "  </div>\n"
            ],
            "application/vnd.google.colaboratory.intrinsic+json": {
              "type": "dataframe",
              "variable_name": "data",
              "summary": "{\n  \"name\": \"data\",\n  \"rows\": 4951,\n  \"fields\": [\n    {\n      \"column\": \"city1\",\n      \"properties\": {\n        \"dtype\": \"category\",\n        \"num_unique_values\": 115,\n        \"samples\": [\n          \"Muscat\",\n          \"Berlin\",\n          \"Bratislava\"\n        ],\n        \"semantic_type\": \"\",\n        \"description\": \"\"\n      }\n    },\n    {\n      \"column\": \"country1\",\n      \"properties\": {\n        \"dtype\": \"category\",\n        \"num_unique_values\": 115,\n        \"samples\": [\n          \"Oman\",\n          \"Germany\",\n          \"Slovakia\"\n        ],\n        \"semantic_type\": \"\",\n        \"description\": \"\"\n      }\n    },\n    {\n      \"column\": \"city2\",\n      \"properties\": {\n        \"dtype\": \"category\",\n        \"num_unique_values\": 115,\n        \"samples\": [\n          \"Nairobi\",\n          \"Cairo\",\n          \"Brussels\"\n        ],\n        \"semantic_type\": \"\",\n        \"description\": \"\"\n      }\n    },\n    {\n      \"column\": \"country2\",\n      \"properties\": {\n        \"dtype\": \"category\",\n        \"num_unique_values\": 115,\n        \"samples\": [\n          \"Kenya\",\n          \"Egypt\",\n          \"Belgium\"\n        ],\n        \"semantic_type\": \"\",\n        \"description\": \"\"\n      }\n    }\n  ]\n}"
            }
          },
          "metadata": {},
          "execution_count": 21
        }
      ]
    },
    {
      "cell_type": "code",
      "source": [
        "word_embeddings= pickle.load(open(\"/content/word_embeddings_subset.p\", \"rb\"))\n",
        "len(word_embeddings)"
      ],
      "metadata": {
        "colab": {
          "base_uri": "https://localhost:8080/"
        },
        "id": "X-Jv2G4m244w",
        "outputId": "fe120577-c300-4baa-b065-b424fbdbb5c0"
      },
      "execution_count": 24,
      "outputs": [
        {
          "output_type": "execute_result",
          "data": {
            "text/plain": [
              "243"
            ]
          },
          "metadata": {},
          "execution_count": 24
        }
      ]
    },
    {
      "cell_type": "markdown",
      "source": [
        "Each of the word embedding is a 300-dimentional vector."
      ],
      "metadata": {
        "id": "k6G-EsNU4WXk"
      }
    },
    {
      "cell_type": "code",
      "source": [
        "print(\"dimension: {}\".format(word_embeddings[\"Spain\"].shape[0]))"
      ],
      "metadata": {
        "colab": {
          "base_uri": "https://localhost:8080/"
        },
        "id": "B0A0gwaJ4P3y",
        "outputId": "bbf710c0-6914-4d5f-8ddb-55bd18b33481"
      },
      "execution_count": 23,
      "outputs": [
        {
          "output_type": "stream",
          "name": "stdout",
          "text": [
            "dimension: 300\n"
          ]
        }
      ]
    },
    {
      "cell_type": "markdown",
      "source": [
        "#### **Predict relationships among words**\n",
        "\n",
        "Now you will write a function that will use the word embeddings to predict relationships among words.\n",
        "* The function will take as input three words.\n",
        "* The first two are related to each other.\n",
        "* It will predict a 4th word which is related to the third word in a similar manner as the two first words are related to each other.\n",
        "* As an example, \"Athens is to Greece as Bangkok is to ______\"?\n",
        "* You will write a program that is capable of finding the fourth word.\n",
        "* We will give you a hint to show you how to compute this.\n"
      ],
      "metadata": {
        "id": "rbh296014rA6"
      }
    },
    {
      "cell_type": "markdown",
      "source": [
        "<a name='1-2'></a>\n",
        "### **1.2 Cosine Similarity**\n",
        "\n",
        "The cosine similarity function is:\n",
        "\n",
        "$$\\cos (\\theta)=\\frac{\\mathbf{A} \\cdot \\mathbf{B}}{\\|\\mathbf{A}\\|\\|\\mathbf{B}\\|}=\\frac{\\sum_{i=1}^{n} A_{i} B_{i}}{\\sqrt{\\sum_{i=1}^{n} A_{i}^{2}} \\sqrt{\\sum_{i=1}^{n} B_{i}^{2}}}\\tag{1}$$\n",
        "\n",
        "$A$ and $B$ represent the word vectors and $A_i$ or $B_i$ represent index i of that vector. Note that if A and B are identical, you will get $cos(\\theta) = 1$.\n",
        "* Otherwise, if they are the total opposite, meaning, $A= -B$, then you would get $cos(\\theta) = -1$.\n",
        "* If you get $cos(\\theta) =0$, that means that they are orthogonal (or perpendicular).\n",
        "* Numbers between 0 and 1 indicate a similarity score.\n",
        "* Numbers between -1 and 0 indicate a dissimilarity score.\n",
        "\n",
        "<a name='ex-1'></a>\n",
        "### **1 - cosine_similarity**\n",
        "Implement a function that takes in two word vectors and computes the cosine distance."
      ],
      "metadata": {
        "id": "vimQqoyg4yVn"
      }
    },
    {
      "cell_type": "code",
      "source": [
        "def cosine_similarity(A, B):\n",
        "  \"\"\"\n",
        "  Input:\n",
        "    A: a numpy array which corresponds to a word vector\n",
        "    B: A numpy array which corresponds to a word vector\n",
        "  Output:\n",
        "    cos: numerical number representing the cosine similarity between A and B.\n",
        "  \"\"\"\n",
        "\n",
        "  dot= np.dot(A, B)\n",
        "  norma= np.linalg.norm(A)\n",
        "  normb= np.linalg.norm(B)\n",
        "  cos= dot/(norma*normb)\n",
        "\n",
        "  return cos"
      ],
      "metadata": {
        "id": "puLx9qg24mrj"
      },
      "execution_count": 25,
      "outputs": []
    },
    {
      "cell_type": "code",
      "source": [
        "king= word_embeddings[\"king\"]\n",
        "queen= word_embeddings[\"queen\"]\n",
        "\n",
        "cosine_similarity(king, queen)"
      ],
      "metadata": {
        "colab": {
          "base_uri": "https://localhost:8080/"
        },
        "id": "8oeDPbUd5It5",
        "outputId": "9578da9f-007a-4c49-d273-669ff862489d"
      },
      "execution_count": 26,
      "outputs": [
        {
          "output_type": "execute_result",
          "data": {
            "text/plain": [
              "np.float32(0.6510956)"
            ]
          },
          "metadata": {},
          "execution_count": 26
        }
      ]
    },
    {
      "cell_type": "markdown",
      "source": [
        "<a name='1-3'></a>\n",
        "### **1.3 Euclidean Distance**\n",
        "\n",
        "You will now implement a function that computes the similarity between two vectors using the Euclidean distance.\n",
        "Euclidean distance is defined as:\n",
        "\n",
        "$$ \\begin{aligned} d(\\mathbf{A}, \\mathbf{B})=d(\\mathbf{B}, \\mathbf{A}) &=\\sqrt{\\left(A_{1}-B_{1}\\right)^{2}+\\left(A_{2}-B_{2}\\right)^{2}+\\cdots+\\left(A_{n}-B_{n}\\right)^{2}} \\\\ &=\\sqrt{\\sum_{i=1}^{n}\\left(A_{i}-B_{i}\\right)^{2}} \\end{aligned}$$\n",
        "\n",
        "* $n$ is the number of elements in the vector\n",
        "* $A$ and $B$ are the corresponding word vectors.\n",
        "* The more similar the words, the more likely the Euclidean distance will be close to 0.\n",
        "\n",
        "<a name='ex-2'></a>\n",
        "### 2 - euclidean\n",
        "Implement a function that computes the Euclidean distance between two vectors."
      ],
      "metadata": {
        "id": "rP3ii3oq6Apj"
      }
    },
    {
      "cell_type": "code",
      "source": [
        "def euclidean(A, B):\n",
        "  \"\"\"\n",
        "  Input:\n",
        "    A: a numpy array which corresponds to a word vector\n",
        "    B: A numpy array which corresponds to a word vector\n",
        "  Output:\n",
        "    dist: numerical number representing the Euclidean distance between A and B.\n",
        "  \"\"\"\n",
        "  dist= np.linalg.norm(A - B)\n",
        "  return dist\n"
      ],
      "metadata": {
        "id": "3w3I1I1I5xzV"
      },
      "execution_count": 27,
      "outputs": []
    },
    {
      "cell_type": "code",
      "source": [
        "euclidean(king, queen)"
      ],
      "metadata": {
        "colab": {
          "base_uri": "https://localhost:8080/"
        },
        "id": "XH5qlS4-6UuT",
        "outputId": "e651779c-3269-441f-8e00-b4d06cdd7112"
      },
      "execution_count": 12,
      "outputs": [
        {
          "output_type": "execute_result",
          "data": {
            "text/plain": [
              "np.float32(2.4796925)"
            ]
          },
          "metadata": {},
          "execution_count": 12
        }
      ]
    },
    {
      "cell_type": "markdown",
      "source": [
        "<a name='1-4'></a>\n",
        "### **1.4 Finding the Country of each Capital**\n",
        "\n",
        "Now, you  will use the previous functions to compute similarities between vectors,\n",
        "and use these to find the capital cities of countries. You will write a function that\n",
        "takes in three words, and the embeddings dictionary. Your task is to find the\n",
        "capital cities. For example, given the following words:\n",
        "\n",
        "- 1: Athens 2: Greece 3: Baghdad,\n",
        "\n",
        "your task is to predict the country 4: Iraq.\n",
        "\n",
        "<a name='ex-3'></a>\n",
        "### **3 - get_country**\n",
        "**Instructions**:\n",
        "\n",
        "1. To predict the capital you might want to look at the *King - Man + Woman = Queen* example above, and implement that scheme into a mathematical function, using the word embeddings and a similarity function.\n",
        "\n",
        "2. Iterate over the embeddings dictionary and compute the cosine similarity score between your vector and the current word embedding.\n",
        "\n",
        "3. You should add a check to make sure that the word you return is not any of the words that you fed into your function. Return the one with the highest score."
      ],
      "metadata": {
        "id": "IuRyDqlt6ZVN"
      }
    },
    {
      "cell_type": "code",
      "source": [
        "def get_country(city1, country1, city2, word_embeddings, cosine_similarity= cosine_similarity):\n",
        "\n",
        "  \"\"\"\n",
        "  Input:\n",
        "    city1: a string (the capital city of country1)\n",
        "    country1: a string (the country of capital1)\n",
        "    city2: a string (the capital city of country2)\n",
        "    word_embeddings: a dictionary where the keys are words and values are their corresponding vectors.\n",
        "    cosine_similarity: a function that computes the cosine similarity between vectors.\n",
        "  Output:\n",
        "    country: a dictionary with the most likely country and its similarity score.\n",
        "  \"\"\"\n",
        "\n",
        "  # store the city1, country1, city2 in a set called group\n",
        "  group= {city1, country1, city2}\n",
        "\n",
        "  # get embeddings\n",
        "  city1_emb= word_embeddings[city1]\n",
        "  country1_emb= word_embeddings[country1]\n",
        "  city2_emb= word_embeddings[city2]\n",
        "\n",
        "  # get the embeddings of the cities\n",
        "  vec= country1_emb - city1_emb + city2_emb\n",
        "\n",
        "  # initialize similarity and result container\n",
        "  similarity= -1\n",
        "  country= (\"\", 0)\n",
        "\n",
        "  # loop through all candidate words\n",
        "  for word in word_embeddings.keys():\n",
        "    if word not in group:\n",
        "      word_emb= word_embeddings[word]\n",
        "      cur_similarity= cosine_similarity(vec, word_emb)\n",
        "\n",
        "      if cur_similarity > similarity:\n",
        "        similarity= cur_similarity\n",
        "        country= (word, similarity)\n",
        "\n",
        "  return country\n",
        "\n"
      ],
      "metadata": {
        "id": "sizILB456XrZ"
      },
      "execution_count": 28,
      "outputs": []
    },
    {
      "cell_type": "code",
      "source": [
        "get_country(\"Athens\", \"Greece\", \"Damascus\", word_embeddings)"
      ],
      "metadata": {
        "colab": {
          "base_uri": "https://localhost:8080/"
        },
        "id": "l_QSmeRd994M",
        "outputId": "677a9dbc-37e9-4d24-fca8-bf5023957800"
      },
      "execution_count": 29,
      "outputs": [
        {
          "output_type": "execute_result",
          "data": {
            "text/plain": [
              "('Syria', np.float32(0.7622637))"
            ]
          },
          "metadata": {},
          "execution_count": 29
        }
      ]
    },
    {
      "cell_type": "markdown",
      "source": [
        "<a name='1-5'></a>\n",
        "### **1.5 Model Accuracy**\n",
        "\n",
        "Now you will test your new function on the dataset and check the accuracy of the model:\n",
        "\n",
        "$$\\text{Accuracy}=\\frac{\\text{Correct # of predictions}}{\\text{Total # of predictions}}$$\n",
        "\n",
        "<a name='ex-4'></a>\n",
        "### **4 - get_accuracy**\n",
        "**Instructions**: Implement a program that can compute the accuracy on the dataset provided for you. You have to iterate over every row to get the corresponding words and feed them into you `get_country` function above."
      ],
      "metadata": {
        "id": "yofq_vddAH9d"
      }
    },
    {
      "cell_type": "code",
      "source": [
        "def get_accuracy(word_embeddings, data, get_country=get_country):\n",
        "  \"\"\"\n",
        "  Input:\n",
        "    word_embeddings: a dictionary where the key is a word and the value is its embedding\n",
        "    data: a pandas DataFrame containing all the country and capital city pairs\n",
        "  Output:\n",
        "    accuracy: a float representing the prediction accuracy\n",
        "  \"\"\"\n",
        "  # initialize num correct to zero\n",
        "  num_correct= 0\n",
        "\n",
        "  # loop through the rows of the dataframe\n",
        "  for i, row in data.iterrows():\n",
        "    city1= row[\"city1\"]\n",
        "    country1= row[\"country1\"]\n",
        "    city2= row[\"city2\"]\n",
        "    # get country2 (ground truth)\n",
        "    country2= row[\"country2\"]\n",
        "\n",
        "    # use get_country to find predicted country2\n",
        "    predicted_country2, _= get_country(city1, country1, city2, word_embeddings)\n",
        "\n",
        "    # if the predicted country2 is the same as the actual country2\n",
        "    if predicted_country2 == country2:\n",
        "      # incement the number fo correct by 1\n",
        "      num_correct+= 1\n",
        "\n",
        "    # get the number of rows in the datafreame\n",
        "    m= len(data)\n",
        "\n",
        "    # calculate the accuracy by dividing the number correct by m\n",
        "    accuracy = num_correct/m\n",
        "\n",
        "  return accuracy"
      ],
      "metadata": {
        "id": "VQy-Y0pXABWB"
      },
      "execution_count": 34,
      "outputs": []
    },
    {
      "cell_type": "code",
      "source": [
        "accuracy= get_accuracy(word_embeddings, data)\n",
        "print(f\"Accuracy is {accuracy:.2f}\")"
      ],
      "metadata": {
        "colab": {
          "base_uri": "https://localhost:8080/"
        },
        "id": "3gPp9MV9CfVE",
        "outputId": "703ed355-0b30-4bd5-fac3-c824a2d4f8c4"
      },
      "execution_count": 35,
      "outputs": [
        {
          "output_type": "stream",
          "name": "stdout",
          "text": [
            "Accuracy is 0.92\n"
          ]
        }
      ]
    },
    {
      "cell_type": "markdown",
      "source": [
        "<a name='2'></a>\n",
        "## **2 - Plotting the vectors using PCA**\n",
        "\n",
        "Now you will explore the distance between word vectors after reducing their dimension.\n",
        "The technique we will employ is known as\n",
        "[*principal component analysis* (PCA)](https://en.wikipedia.org/wiki/Principal_component_analysis).\n",
        "As we saw, we are working in a 300-dimensional space in this case.\n",
        "Although from a computational perspective we were able to perform a good job,\n",
        "it is impossible to visualize results in such high dimensional spaces.\n",
        "\n",
        "You can think of PCA as a method that projects our vectors in a space of reduced\n",
        "dimension, while keeping the maximum information about the original vectors in\n",
        "their reduced counterparts. In this case, by *maximum infomation* we mean that the\n",
        "Euclidean distance between the original vectors and their projected siblings is\n",
        "minimal. Hence vectors that were originally close in the embeddings dictionary,\n",
        "will produce lower dimensional vectors that are still close to each other.\n",
        "\n",
        "You will see that when you map out the words, similar words will be clustered\n",
        "next to each other. For example, the words 'sad', 'happy', 'joyful' all describe\n",
        "emotion and are supposed to be near each other when plotted.\n",
        "The words: 'oil', 'gas', and 'petroleum' all describe natural resources.\n",
        "Words like 'city', 'village', 'town' could be seen as synonyms and describe a\n",
        "similar thing.\n",
        "\n",
        "Before plotting the words, you need to first be able to reduce each word vector\n",
        "with PCA into 2 dimensions and then plot it. The steps to compute PCA are as follows:\n",
        "\n",
        "1. Mean normalize the data\n",
        "2. Compute the covariance matrix of your data ($\\Sigma$).\n",
        "3. Compute the eigenvectors and the eigenvalues of your covariance matrix\n",
        "4. Multiply the first K eigenvectors by your normalized data.\n"
      ],
      "metadata": {
        "id": "yjpoM_psEXtS"
      }
    },
    {
      "cell_type": "markdown",
      "source": [
        "<a name='ex-5'></a>\n",
        "### **5 - compute_pca**\n",
        "\n",
        "**Instructions**:\n",
        "\n",
        "Implement a program that takes in a data set where each row corresponds to a word vector.\n",
        "* The word vectors are of dimension 300.\n",
        "* Use PCA to change the 300 dimensions to `n_components` dimensions.\n",
        "* The new matrix should be of dimension `m, n_components`.\n",
        "\n",
        "* First de-mean the data\n",
        "* Get the eigenvalues using `linalg.eigh`.  Use 'eigh' rather than 'eig' since R is symmetric.  The performance gain when using eigh instead of eig is substantial.\n",
        "* Sort the eigenvectors and eigenvalues by decreasing order of the eigenvalues.\n",
        "* Get a subset of the eigenvectors (choose how many principle components you want to use using n_components).\n",
        "* Return the new transformation of the data by multiplying the eigenvectors with the original data."
      ],
      "metadata": {
        "id": "Y6NLa0HpEo8t"
      }
    },
    {
      "cell_type": "code",
      "source": [
        "def compute_pca(X, n_components= 2):\n",
        "  \"\"\"\n",
        "  Input:\n",
        "    X: Numpy array of shape (m, n) where each row corresponds to a word vector\n",
        "    n_components: Number of components you want to keep.\n",
        "  Output:\n",
        "    X_reduced: Transformed data in n_components dimensions\n",
        "  \"\"\"\n",
        "\n",
        "  # mean center the data\n",
        "  X_demeaned= X - np.mean(X, axis=0)\n",
        "\n",
        "  # Calculate the covariance matrix\n",
        "  covariance_matrix = np.cov(X_demeaned, rowvar=False)\n",
        "\n",
        "  # Compute eigenvalues and eigenvectors\n",
        "  eigen_vals, eigen_vecs = np.linalg.eigh(covariance_matrix)\n",
        "\n",
        "  # Sort eigenvalues and eigenvectors in decreasing order\n",
        "  idx_sorted = np.argsort(eigen_vals)\n",
        "  idx_sorted_decreasing = idx_sorted[::-1]\n",
        "  eigen_vecs_sorted = eigen_vecs[:, idx_sorted_decreasing]\n",
        "\n",
        "  # Select the first n_components eigenvectors\n",
        "  eigen_vecs_subset = eigen_vecs_sorted[:, :n_components]\n",
        "\n",
        "  # Project the data onto the selected components\n",
        "  X_reduced = np.dot(X_demeaned, eigen_vecs_subset)\n",
        "\n",
        "  return X_reduced"
      ],
      "metadata": {
        "id": "zTBwCUSOEUhR"
      },
      "execution_count": 36,
      "outputs": []
    },
    {
      "cell_type": "code",
      "source": [
        "#test\n",
        "np.random.seed(1)\n",
        "X= np.random.rand(3, 10)\n",
        "X_reduced= compute_pca(X, n_components= 2)\n",
        "print(\"Your original matrix was \" + str(X.shape) + \" and it became:\")\n",
        "print(X_reduced)"
      ],
      "metadata": {
        "colab": {
          "base_uri": "https://localhost:8080/"
        },
        "id": "O_K4_ArmKJP1",
        "outputId": "aef2218d-b9a8-4379-97d5-005511f1a4dd"
      },
      "execution_count": 37,
      "outputs": [
        {
          "output_type": "stream",
          "name": "stdout",
          "text": [
            "Your original matrix was (3, 10) and it became:\n",
            "[[ 0.43437323 -0.49820384]\n",
            " [ 0.42077249  0.50351448]\n",
            " [-0.85514571 -0.00531064]]\n"
          ]
        }
      ]
    },
    {
      "cell_type": "code",
      "source": [
        "words= [\"oil\", \"gas\", \"happy\", \"sad\", \"town\", \"village\", \"country\", \"continent\", \"petroleum\", \"joyful\"]\n",
        "\n",
        "# given a list of words and the embeddings, it returns a matrix with all the embeddings\n",
        "X= get_vectors(word_embeddings, words)\n",
        "\n",
        "print('You have 11 words each of 300 dimensions thus X.shape is:', X.shape)"
      ],
      "metadata": {
        "colab": {
          "base_uri": "https://localhost:8080/"
        },
        "id": "iCSDWfMAK8XD",
        "outputId": "4b3db5e6-b99d-4ddc-fc9d-8aec37559378"
      },
      "execution_count": 42,
      "outputs": [
        {
          "output_type": "stream",
          "name": "stdout",
          "text": [
            "You have 11 words each of 300 dimensions thus X.shape is: (10, 300)\n"
          ]
        },
        {
          "output_type": "stream",
          "name": "stderr",
          "text": [
            "<ipython-input-39-bde0e625a6c8>:16: DeprecationWarning: `row_stack` alias is deprecated. Use `np.vstack` directly.\n",
            "  X= np.row_stack((X, eng_emb))\n"
          ]
        }
      ]
    },
    {
      "cell_type": "code",
      "source": [
        "# we have done the poltting for you. Just run this cell.\n",
        "result= compute_pca(X, 2)\n",
        "plt.scatter(result[:, 0], result[:, 1])\n",
        "for i, word in enumerate(words):\n",
        "  plt.annotate(word, xy=(result[i, 0] - 0.0005, result[i, 1] - 0.0005))\n",
        "plt.show()"
      ],
      "metadata": {
        "colab": {
          "base_uri": "https://localhost:8080/",
          "height": 430
        },
        "id": "l0jiNikuLrqe",
        "outputId": "3c56ae54-15e0-4aa5-9371-2e6992d2612d"
      },
      "execution_count": 49,
      "outputs": [
        {
          "output_type": "display_data",
          "data": {
            "text/plain": [
              "<Figure size 640x480 with 1 Axes>"
            ],
            "image/png": "[encoded data removed]"
          },
          "metadata": {}
        }
      ]
    }
  ]
}