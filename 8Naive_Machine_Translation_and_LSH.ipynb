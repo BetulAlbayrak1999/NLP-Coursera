{
  "nbformat": 4,
  "nbformat_minor": 0,
  "metadata": {
    "colab": {
      "provenance": [],
      "gpuType": "T4"
    },
    "kernelspec": {
      "name": "python3",
      "display_name": "Python 3"
    },
    "language_info": {
      "name": "python"
    },
    "accelerator": "GPU"
  },
  "cells": [
    {
      "cell_type": "markdown",
      "source": [
        "# **Naive Machine Translation and LSH**\n",
        "\n",
        "If you are running this notebook in your local computer, don't forget to\n",
        "download the twitter samples and stopwords from nltk.\n",
        "\n",
        "```\n",
        "nltk.download('stopwords')\n",
        "nltk.download('twitter_samples')\n",
        "```"
      ],
      "metadata": {
        "id": "Ga-bin6nxSS1"
      }
    },
    {
      "cell_type": "code",
      "execution_count": 75,
      "metadata": {
        "id": "z6N2QjeYnVrS"
      },
      "outputs": [],
      "source": [
        "import pdb\n",
        "import pickle\n",
        "import string\n",
        "\n",
        "import time\n",
        "\n",
        "import nltk\n",
        "import numpy as np\n",
        "from nltk.corpus import stopwords, twitter_samples\n",
        "\n",
        "from os import getcwd"
      ]
    },
    {
      "cell_type": "code",
      "source": [
        "import re\n",
        "import string\n",
        "\n",
        "import numpy as np\n",
        "import pandas as pd\n",
        "from nltk.corpus import stopwords\n",
        "from nltk.stem import PorterStemmer\n",
        "from nltk.tokenize import TweetTokenizer"
      ],
      "metadata": {
        "id": "ExiExnYCx5UX"
      },
      "execution_count": 41,
      "outputs": []
    },
    {
      "cell_type": "code",
      "source": [
        "def process_tweet(tweet):\n",
        "  \"\"\"\n",
        "  Input:\n",
        "    tweet: a string containing a tweet\n",
        "  Output:\n",
        "    tweets_clean: a list of words containing the processed tweet\n",
        "  \"\"\"\n",
        "\n",
        "  stemmer= PorterStemmer()\n",
        "  stopwords_english= stopwords.words('english')\n",
        "\n",
        "  # remove stock market tickers like $GE\n",
        "  tweet= re.sub(r\"\\$\\w*\", \"\", tweet)\n",
        "  # remove old style retweet text \"RT\"\n",
        "  tweet = re.sub(r'^RT[\\s]+', '', tweet)\n",
        "  # remove hyperlinks\n",
        "  tweet = re.sub(r'https?:\\/\\/.*[\\r\\n]*', '', tweet)\n",
        "  # remove hashtags\n",
        "  # only removing the hash # sign from the word\n",
        "  tweet = re.sub(r'#', '', tweet)\n",
        "\n",
        "  # tokenize tweets\n",
        "  tokenizer= TweetTokenizer(preserve_case= False, strip_handles= True, reduce_len= True)\n",
        "  tweet_tokens= tokenizer.tokenize(tweet)\n",
        "\n",
        "  tweets_clean= []\n",
        "  for word in tweet_tokens:\n",
        "    if (word not in stopwords_english and\n",
        "        word not in string.punctuation):\n",
        "      stem_word= stemmer.stem(word)\n",
        "      tweets_clean.append(stem_word)\n",
        "\n",
        "  return tweets_clean"
      ],
      "metadata": {
        "id": "uvtEEf1FyLrT"
      },
      "execution_count": 42,
      "outputs": []
    },
    {
      "cell_type": "code",
      "source": [
        "def get_dict(file_name):\n",
        "  \"\"\"\n",
        "  This function returns the english to french dictionary given a file where the each column corresponds to a word.\n",
        "  \"\"\"\n",
        "  my_file= pd.read_csv(file_name, delimiter=\" \")\n",
        "  etof= {} #the english to french dictionary to be returned\n",
        "  for i in range(len(my_file)):\n",
        "    #indexing into rows\n",
        "    en = my_file.loc[i].iloc[0]\n",
        "    fr = my_file.loc[i].iloc[1]\n",
        "    etof[en]= fr\n",
        "  return etof"
      ],
      "metadata": {
        "id": "M5M36jNfzLQZ"
      },
      "execution_count": 43,
      "outputs": []
    },
    {
      "cell_type": "code",
      "source": [
        "def cosine_similarity(A, B):\n",
        "    '''\n",
        "    Input:\n",
        "        A: a numpy array which corresponds to a word vector\n",
        "        B: A numpy array which corresponds to a word vector\n",
        "    Output:\n",
        "        cos: numerical number representing the cosine similarity between A and B.\n",
        "    '''\n",
        "    # you have to set this variable to the true label.\n",
        "    cos = -10\n",
        "    dot = np.dot(A, B)\n",
        "    normb = np.linalg.norm(B)\n",
        "\n",
        "    if len(A.shape) == 1: # If A is just a vector, we get the norm\n",
        "        norma = np.linalg.norm(A)\n",
        "        cos = dot / (norma * normb)\n",
        "    else: # If A is a matrix, then compute the norms of the word vectors of the matrix (norm of each row)\n",
        "        norma = np.linalg.norm(A, axis=1)\n",
        "        epsilon = 1.0e-9 # to avoid division by 0\n",
        "        cos = dot / (norma * normb + epsilon)\n",
        "\n",
        "    return cos"
      ],
      "metadata": {
        "id": "AEhEvwmbz1WK"
      },
      "execution_count": 44,
      "outputs": []
    },
    {
      "cell_type": "code",
      "source": [
        "filePath= f\"{getcwd()}/tmp2/\"\n",
        "nltk.data.path.append(filePath)"
      ],
      "metadata": {
        "id": "aejRCHBmz5x7"
      },
      "execution_count": 45,
      "outputs": []
    },
    {
      "cell_type": "markdown",
      "source": [
        "<a name=\"1\"></a>\n",
        "\n",
        "# **1. The Word Embeddings Data for English and French Words**\n",
        "\n",
        "Write a program that translates English to French.\n",
        "\n",
        "## The Data\n",
        "\n",
        "The full dataset for English embeddings is about 3.64 gigabytes, and the French\n",
        "embeddings are about 629 megabytes. To prevent the Coursera workspace from\n",
        "crashing, we've extracted a subset of the embeddings for the words that you'll\n",
        "use in this assignment."
      ],
      "metadata": {
        "id": "6MKAjoAw0kRE"
      }
    },
    {
      "cell_type": "code",
      "source": [
        "en_embeddings_subset = pickle.load(open(\"/content/en_embeddings.p\", \"rb\"))\n",
        "fr_embeddings_subset = pickle.load(open(\"/content/fr_embeddings.p\", \"rb\"))"
      ],
      "metadata": {
        "id": "zpJ6KiFA0F1T"
      },
      "execution_count": 46,
      "outputs": []
    },
    {
      "cell_type": "markdown",
      "source": [
        "#### Look at the data\n",
        "\n",
        "* en_embeddings_subset: the key is an English word, and the value is a\n",
        "300 dimensional array, which is the embedding for that word.\n",
        "```\n",
        "'the': array([ 0.08007812,  0.10498047,  0.04980469,  0.0534668 , -0.06738281, ....\n",
        "```\n",
        "\n",
        "* fr_embeddings_subset: the key is a French word, and the value is a 300\n",
        "dimensional array, which is the embedding for that word.\n",
        "```\n",
        "'la': array([-6.18250e-03, -9.43867e-04, -8.82648e-03,  3.24623e-02,...\n",
        "```"
      ],
      "metadata": {
        "id": "u2PuaNws1LKg"
      }
    },
    {
      "cell_type": "markdown",
      "source": [
        "#### Load two dictionaries mapping the English to French words\n",
        "* A training dictionary\n",
        "* and a testing dictionary."
      ],
      "metadata": {
        "id": "Vr-4lCNz1Oeq"
      }
    },
    {
      "cell_type": "code",
      "source": [
        "# loading the english to french dictionaries\n",
        "en_fr_train= get_dict(\"/content/en-fr.train.txt\");\n",
        "print(\"The length of the English to French training dictionary is\", len(en_fr_train));\n",
        "en_fr_test= get_dict(\"/content/en-fr.test.txt\");\n",
        "print(\"The length of the English to French test dictionary is\", len(en_fr_train));\n"
      ],
      "metadata": {
        "colab": {
          "base_uri": "https://localhost:8080/"
        },
        "id": "FKNAWAQg1Iyg",
        "outputId": "f5e6d168-a16c-47d0-bcea-e2068f17c2a0"
      },
      "execution_count": 47,
      "outputs": [
        {
          "output_type": "stream",
          "name": "stdout",
          "text": [
            "The length of the English to French training dictionary is 5000\n",
            "The length of the English to French test dictionary is 5000\n"
          ]
        }
      ]
    },
    {
      "cell_type": "markdown",
      "source": [
        "#### Looking at the English French dictionary\n",
        "\n",
        "* `en_fr_train` is a dictionary where the key is the English word and the value\n",
        "is the French translation of that English word.\n",
        "```\n",
        "{'the': 'la',\n",
        " 'and': 'et',\n",
        " 'was': 'était',\n",
        " 'for': 'pour',\n",
        "```\n",
        "\n",
        "* `en_fr_test` is similar to `en_fr_train`, but is a test set.  We won't look at it\n",
        "until we get to testing."
      ],
      "metadata": {
        "id": "Vy9Ni2jr_u96"
      }
    },
    {
      "cell_type": "markdown",
      "source": [
        "<a name=\"1-1\"></a>\n",
        "### **1.1 Generate Embedding and Transform Matrices**\n",
        "\n",
        "<a name=\"ex-1\"></a>\n",
        "### 1 - get_matrices\n",
        "\n",
        "Translating English dictionary to French by using embeddings.\n",
        "\n",
        "You will now implement a function `get_matrices`, which takes the loaded data\n",
        "and returns matrices `X` and `Y`.\n",
        "\n",
        "Inputs:\n",
        "- `en_fr` : English to French dictionary\n",
        "- `en_embeddings` : English to embeddings dictionary\n",
        "- `fr_embeddings` : French to embeddings dictionary\n",
        "\n",
        "Returns:\n",
        "- Matrix `X` and matrix `Y`, where each row in X is the word embedding for an\n",
        "english word, and the same row in Y is the word embedding for the French\n",
        "version of that English word.\n",
        "\n",
        "\n",
        "Use the `en_fr` dictionary to ensure that the ith row in the `X` matrix\n",
        "corresponds to the ith row in the `Y` matrix."
      ],
      "metadata": {
        "id": "lPAlVjx4_yxd"
      }
    },
    {
      "cell_type": "code",
      "source": [
        "def get_matrices(en_fr, french_vecs, english_vecs):\n",
        "  \"\"\"\n",
        "  Creates matrices fo word embeddings for English and French words that are mapped to each other.\n",
        "\n",
        "  Input:\n",
        "  en_fr: English to French dictionary\n",
        "  french_vecs: French words to their corresponding word embeddings.\n",
        "  english_vecs: English words to their corresponding word embeddings.\n",
        "  Output:\n",
        "  X: matrix with each row being the embvedding of an English word. Shape is (number_of_words, embedding_size).\n",
        "  Y: matrix with each row being the embedding of a French word. Shape is (number_of_words, embedding_size).\n",
        "\n",
        "  Note:\n",
        "      This function does not compute or return a projection matrix.\n",
        "\n",
        "  \"\"\"\n",
        "  # X_l and Y_l are lists of the english and french word embeddings\n",
        "  X_l =list()\n",
        "  Y_l= list()\n",
        "\n",
        "  # get the english words (the keys in the dictionary) and store in a set()\n",
        "  english_set= set(english_vecs.keys())\n",
        "\n",
        "  # get the french words (keys in the dictionary) and store in a set()\n",
        "  french_Set= set(french_vecs.keys())\n",
        "\n",
        "    # loop through all english, french word pairs in the english french dictionary\n",
        "  for en_word, fr_word in en_fr.items():\n",
        "\n",
        "        # check that the french word has an embedding and that the english word has an embedding\n",
        "        if fr_word in french_Set and en_word in english_set:\n",
        "\n",
        "          # get engşish embedding\n",
        "          en_vec= english_vecs[en_word]\n",
        "\n",
        "          # get french embedding\n",
        "          fr_vec= french_vecs[fr_word]\n",
        "\n",
        "          # add the english embedding to the list\n",
        "          X_l.append(en_vec)\n",
        "\n",
        "          # add the french embedding to the list\n",
        "          Y_l.append(fr_vec)\n",
        "\n",
        "# stack the vectors of X_l into a matrix X\n",
        "  X = np.vstack(X_l)\n",
        "\n",
        "  # stack the vectors of Y_l into a matrix Y\n",
        "  Y = np.vstack(Y_l)\n",
        "  return X, Y\n"
      ],
      "metadata": {
        "id": "bNokNuMV_b-K"
      },
      "execution_count": 48,
      "outputs": []
    },
    {
      "cell_type": "markdown",
      "source": [
        "Now we will use function `get_matrices()` to obtain sets `X_train` and `Y_train`\n",
        "of English and French word embeddings into the corresponding vector space models."
      ],
      "metadata": {
        "id": "AS5kp03JDs4T"
      }
    },
    {
      "cell_type": "code",
      "source": [
        "# getting the training set:\n",
        "X_train, Y_train= get_matrices(en_fr_train, fr_embeddings_subset, en_embeddings_subset)"
      ],
      "metadata": {
        "id": "fEcUD6g_Dqra"
      },
      "execution_count": 49,
      "outputs": []
    },
    {
      "cell_type": "markdown",
      "source": [
        "<a name=\"2\"></a>\n",
        "\n",
        "## **2 - Translations**\n",
        "\n",
        "\n",
        "Write a program that translates English words to French words using word embeddings and vector space models.\n",
        "\n",
        "<a name=\"2-1\"></a>\n",
        "### 2.1 - Translation as Linear Transformation of Embeddings\n",
        "\n",
        "Given dictionaries of English and French word embeddings you will create a transformation matrix `R`\n",
        "* Given an English word embedding, $\\mathbf{e}$, you can multiply $\\mathbf{eR}$ to get a new word embedding $\\mathbf{f}$.\n",
        "    * Both $\\mathbf{e}$ and $\\mathbf{f}$ are [row vectors](https://en.wikipedia.org/wiki/Row_and_column_vectors).\n",
        "* You can then compute the nearest neighbors to `f` in the french embeddings and recommend the word that is most similar to the transformed word embedding."
      ],
      "metadata": {
        "id": "ZCHB34c5D_s0"
      }
    },
    {
      "cell_type": "markdown",
      "source": [
        "#### Describing translation as the minimization problem\n",
        "\n",
        "Find a matrix `R` that minimizes the following equation.\n",
        "\n",
        "$$\\arg \\min _{\\mathbf{R}}\\| \\mathbf{X R} - \\mathbf{Y}\\|_{F}\\tag{1} $$\n",
        "\n",
        "#### Frobenius norm\n",
        "\n",
        "The Frobenius norm of a matrix $A$ (assuming it is of dimension $m,n$) is defined as the square root of the sum of the absolute squares of its elements:\n",
        "\n",
        "$$\\|\\mathbf{A}\\|_{F} \\equiv \\sqrt{\\sum_{i=1}^{m} \\sum_{j=1}^{n}\\left|a_{i j}\\right|^{2}}\\tag{2}$$"
      ],
      "metadata": {
        "id": "ZsjGtd3iEFyr"
      }
    },
    {
      "cell_type": "markdown",
      "source": [
        "#### Actual loss function\n",
        "In the real world applications, the Frobenius norm loss:\n",
        "\n",
        "$$\\| \\mathbf{XR} - \\mathbf{Y}\\|_{F}$$\n",
        "\n",
        "is often replaced by it's squared value divided by $m$:\n",
        "\n",
        "$$ \\frac{1}{m} \\|  \\mathbf{X R} - \\mathbf{Y} \\|_{F}^{2}$$\n",
        "\n",
        "where $m$ is the number of examples (rows in $\\mathbf{X}$).\n",
        "\n",
        "* The same R is found when using this loss function versus the original Frobenius norm.\n",
        "* The reason for taking the square is that it's easier to compute the gradient of the squared Frobenius.\n",
        "* The reason for dividing by $m$ is that we're more interested in the average loss per embedding than the  loss for the entire training set.\n",
        "    * The loss for all training set increases with more words (training examples),\n",
        "    so taking the average helps us to track the average loss regardless of the size of the training set."
      ],
      "metadata": {
        "id": "7mDYe0XcELfG"
      }
    },
    {
      "cell_type": "markdown",
      "source": [
        "#### **Implementing translation mechanism described in this section.**\n",
        "\n",
        "<a name=\"ex-2\"></a>\n",
        "### 2 - compute_loss\n",
        "\n",
        "#### Step 1: Computing the loss\n",
        "* The loss function will be squared Frobenius norm of the difference between\n",
        "matrix and its approximation, divided by the number of training examples $m$.\n",
        "* Its formula is:\n",
        "$$ L(X, Y, R)=\\frac{1}{m}\\sum_{i=1}^{m} \\sum_{j=1}^{n}\\left( a_{i j} \\right)^{2}$$\n",
        "\n",
        "where $a_{i j}$ is value in $i$th row and $j$th column of the matrix $\\mathbf{XR}-\\mathbf{Y}$."
      ],
      "metadata": {
        "id": "fhJfKsKMEPQS"
      }
    },
    {
      "cell_type": "markdown",
      "source": [
        "#### Instructions: complete the `compute_loss()` function\n",
        "\n",
        "* Compute the approximation of `Y` by matrix multiplying `X` and `R`\n",
        "* Compute difference `XR - Y`\n",
        "* Compute the squared Frobenius norm of the difference and divide it by $m$."
      ],
      "metadata": {
        "id": "XjPLv8hYEVg8"
      }
    },
    {
      "cell_type": "code",
      "source": [
        "def compute_loss(X, Y, R):\n",
        "  \"\"\"\n",
        "  Inputs:\n",
        "  X: a matrix of dimension (m,n) where the columns are the English embeddings.\n",
        "  Y: a matrix of dimension (m,n) where the columns correspong to the French embeddings.\n",
        "  R: a matrix of dimension (n,n) - transformation matrix from English to French vector space embeddings.\n",
        "  Outputs:\n",
        "  loss: the value of the loss function for given X, Y and R.\n",
        "  \"\"\"\n",
        "  # m is the number of rows in X\n",
        "  m= X.shape[0]\n",
        "\n",
        "  # diff is XR - Y\n",
        "  diff= X.dot(R) - Y\n",
        "\n",
        "  # diff_squared is the element-wise square of the difference\n",
        "  diff_squared = diff ** 2\n",
        "\n",
        "  # sum_diff_squared is the sum of the squared elements\n",
        "  sum_diff_squared = np.sum(diff_squared)\n",
        "\n",
        "  # loss is the sum_diff_squared divided by the number of examples (m)\n",
        "  loss = sum_diff_squared / m\n",
        "  return loss\n"
      ],
      "metadata": {
        "id": "FxF3coLPD6aM"
      },
      "execution_count": 50,
      "outputs": []
    },
    {
      "cell_type": "code",
      "source": [
        "# Testing\n",
        "np.random.seed(123)\n",
        "m = 10\n",
        "n = 5\n",
        "X = np.random.rand(m, n)\n",
        "Y = np.random.rand(m, n) * .1\n",
        "R = np.random.rand(n, n)\n",
        "print(f\"Expected loss for an experiment with random matrices: {compute_loss(X, Y, R):.4f}\" )"
      ],
      "metadata": {
        "colab": {
          "base_uri": "https://localhost:8080/"
        },
        "id": "K9HK8IXWFEYm",
        "outputId": "9802e5ba-0a97-4694-ec49-bd38e7775e03"
      },
      "execution_count": 51,
      "outputs": [
        {
          "output_type": "stream",
          "name": "stdout",
          "text": [
            "Expected loss for an experiment with random matrices: 8.1866\n"
          ]
        }
      ]
    },
    {
      "cell_type": "markdown",
      "source": [
        "<a name=\"ex-3\"></a>\n",
        "### 3 - compute_gradient\n",
        "\n",
        "#### Step 2: Computing the gradient of loss with respect to transform matrix R\n",
        "\n",
        "* Calculate the gradient of the loss with respect to transform matrix `R`.\n",
        "* The gradient is a matrix that encodes how much a small change in `R`\n",
        "affect the change in the loss function.\n",
        "* The gradient gives us the direction in which we should decrease `R`\n",
        "to minimize the loss.\n",
        "* $m$ is the number of training examples (number of rows in $X$).\n",
        "* The formula for the gradient of the loss function $𝐿(𝑋,𝑌,𝑅)$ is:\n",
        "\n",
        "$$\\frac{d}{dR}𝐿(𝑋,𝑌,𝑅)=\\frac{d}{dR}\\Big(\\frac{1}{m}\\| X R -Y\\|_{F}^{2}\\Big) = \\frac{2}{m}X^{T} (X R - Y)$$\n",
        "\n",
        "**Instructions**: Complete the `compute_gradient` function below."
      ],
      "metadata": {
        "id": "GJv9HsNMFzBV"
      }
    },
    {
      "cell_type": "code",
      "source": [
        "def compute_gradient(X, Y, R):\n",
        "    '''\n",
        "    Inputs:\n",
        "        X: a matrix of dimension (m,n) where the rows are the English embeddings.\n",
        "        Y: a matrix of dimension (m,n) where the rows correspond to the French embeddings.\n",
        "        R: a matrix of dimension (n,n) - transformation matrix from English to French vector space embeddings.\n",
        "    Outputs:\n",
        "        gradient: a matrix of dimension (n,n) - gradient of the loss function L with respect to R.\n",
        "    '''\n",
        "    # m is the number of rows in X\n",
        "    m = X.shape[0]\n",
        "\n",
        "    # Compute the gradient: X^T(XR - Y) * 2/m\n",
        "    gradient = (X.T.dot(X.dot(R) - Y)) * (2 / m)\n",
        "\n",
        "    return gradient\n"
      ],
      "metadata": {
        "id": "DckgbuZaFtjL"
      },
      "execution_count": 52,
      "outputs": []
    },
    {
      "cell_type": "code",
      "source": [
        "# Testing your implementation.\n",
        "np.random.seed(123)\n",
        "m = 10\n",
        "n = 5\n",
        "X = np.random.rand(m, n)\n",
        "Y = np.random.rand(m, n) * .1\n",
        "R = np.random.rand(n, n)\n",
        "gradient = compute_gradient(X, Y, R)\n",
        "print(f\"First row of the gradient matrix: {gradient[0]}\")"
      ],
      "metadata": {
        "colab": {
          "base_uri": "https://localhost:8080/"
        },
        "id": "OAvbCU59GBWz",
        "outputId": "7c1cd9da-cee5-46b7-905b-118a75fbe717"
      },
      "execution_count": 53,
      "outputs": [
        {
          "output_type": "stream",
          "name": "stdout",
          "text": [
            "First row of the gradient matrix: [1.3498175  1.11264981 0.69626762 0.98468499 1.33828969]\n"
          ]
        }
      ]
    },
    {
      "cell_type": "markdown",
      "source": [
        "Pseudocode:\n",
        "1. Calculate gradient $g$ of the loss with respect to the matrix $R$.\n",
        "2. Update $R$ with the formula:\n",
        "$$R_{\\text{new}}= R_{\\text{old}}-\\alpha g$$\n",
        "\n",
        "Where $\\alpha$ is the learning rate, which is a scalar."
      ],
      "metadata": {
        "id": "jBgWl7RaHCuj"
      }
    },
    {
      "cell_type": "markdown",
      "source": [
        "#### Learning Rate\n",
        "\n",
        "* The learning rate or \"step size\" $\\alpha$ is a coefficient which decides how much we want to change $R$ in each step.\n",
        "* If we change $R$ too much, we could skip the optimum by taking too large of a step.\n",
        "* If we make only small changes to $R$, we will need many steps to reach the optimum.\n",
        "* Learning rate $\\alpha$ is used to control those changes.\n",
        "* Values of $\\alpha$ are chosen depending on the problem, and we'll use `learning_rate`$=0.0003$ as the default value for our algorithm."
      ],
      "metadata": {
        "id": "4z2Ba1vdG-4a"
      }
    },
    {
      "cell_type": "markdown",
      "source": [
        "<a name=\"ex-4\"></a>\n",
        "### 4 - align_embeddings\n",
        "\n",
        "Implement `align_embeddings()`"
      ],
      "metadata": {
        "id": "baeGaXehG0Pc"
      }
    },
    {
      "cell_type": "code",
      "source": [
        "def align_embeddings(X, Y, train_steps=100, learning_rate= 0.003, verbose= True, compute_loss= compute_loss, compute_gradient= compute_gradient):\n",
        "  \"\"\"\n",
        "      Inputs:\n",
        "        X: a matrix of dimension (m,n) where the rows are the English embeddings.\n",
        "        Y: a matrix of dimension (m,n) where the rows correspond to the French embeddings.\n",
        "        train_steps: positive int - describes how many steps the gradient descent algorithm will do.\n",
        "        learning_rate: positive float - describes how big the steps of the gradient descent algorithm will be.\n",
        "    Outputs:\n",
        "        R: a matrix of dimension (n,n) - the projection matrix that minimizes the Frobenius norm ||X R - Y||^2\n",
        "  \"\"\"\n",
        "\n",
        "  np.random.seed(129)\n",
        "\n",
        "  # the number od columns in X is the embedding dimension\n",
        "  R= np.random.rand(X.shape[1], X.shape[1])\n",
        "\n",
        "  for i in range(train_steps):\n",
        "    if verbose and i % 25 == 0:\n",
        "      print(f\"loss at iteration {i} is: {compute_loss(X, Y, R):.4f}\")\n",
        "\n",
        "      # compute the gradient using the provided function\n",
        "      gradient= compute_gradient(X, Y, R)\n",
        "\n",
        "      # update R by subtracting the learning rate times gradient\n",
        "      R -= learning_rate * gradient\n",
        "  return R\n"
      ],
      "metadata": {
        "id": "W7k4s0ByG1a-"
      },
      "execution_count": 54,
      "outputs": []
    },
    {
      "cell_type": "code",
      "source": [
        "# Testing your implementation.\n",
        "np.random.seed(129)\n",
        "m = 10\n",
        "n = 5\n",
        "X = np.random.rand(m, n)\n",
        "Y = np.random.rand(m, n) * .1\n",
        "R = align_embeddings(X, Y)"
      ],
      "metadata": {
        "colab": {
          "base_uri": "https://localhost:8080/"
        },
        "id": "u7QtWVZLNew-",
        "outputId": "e31ecb2d-f690-4eae-ac04-f4bdfb6adf76"
      },
      "execution_count": 55,
      "outputs": [
        {
          "output_type": "stream",
          "name": "stdout",
          "text": [
            "loss at iteration 0 is: 3.7242\n",
            "loss at iteration 25 is: 3.6854\n",
            "loss at iteration 50 is: 3.6471\n",
            "loss at iteration 75 is: 3.6091\n"
          ]
        }
      ]
    },
    {
      "cell_type": "markdown",
      "source": [
        "#### Calculate Transformation matrix R\n",
        "\n",
        "Using just the training set, find the transformation matrix $\\mathbf{R}$ by calling the function `align_embeddings()`.\n",
        "\n",
        "**NOTE:** The code cell below will take a few minutes to fully execute (~3 mins)"
      ],
      "metadata": {
        "id": "rq-Ig3_xNyg8"
      }
    },
    {
      "cell_type": "code",
      "source": [
        "R_train = align_embeddings(X_train, Y_train, train_steps=400, learning_rate=1)"
      ],
      "metadata": {
        "colab": {
          "base_uri": "https://localhost:8080/"
        },
        "id": "ixBNn4AONpg9",
        "outputId": "4b6e124d-8018-4c8c-e3fa-43997b0682f2"
      },
      "execution_count": 56,
      "outputs": [
        {
          "output_type": "stream",
          "name": "stdout",
          "text": [
            "loss at iteration 0 is: 963.0146\n",
            "loss at iteration 25 is: 671.3412\n",
            "loss at iteration 50 is: 560.8078\n",
            "loss at iteration 75 is: 484.4246\n",
            "loss at iteration 100 is: 424.6790\n",
            "loss at iteration 125 is: 376.0901\n",
            "loss at iteration 150 is: 335.6117\n",
            "loss at iteration 175 is: 301.2819\n",
            "loss at iteration 200 is: 271.7665\n",
            "loss at iteration 225 is: 246.1209\n",
            "loss at iteration 250 is: 223.6512\n",
            "loss at iteration 275 is: 203.8320\n",
            "loss at iteration 300 is: 186.2540\n",
            "loss at iteration 325 is: 170.5913\n",
            "loss at iteration 350 is: 156.5795\n",
            "loss at iteration 375 is: 144.0008\n"
          ]
        }
      ]
    },
    {
      "cell_type": "markdown",
      "source": [
        "<a name=\"2-2\"></a>\n",
        "### 2.2 - Testing the Translation\n",
        "\n",
        "#### **k-Nearest Neighbors Algorithm**\n",
        "\n",
        "[k-Nearest neighbors algorithm](https://en.wikipedia.org/wiki/K-nearest_neighbors_algorithm)\n",
        "* k-NN is a method which takes a vector as input and finds the other vectors in the dataset that are closest to it.\n",
        "* The 'k' is the number of \"nearest neighbors\" to find (e.g. k=2 finds the closest two neighbors).\n",
        "\n",
        "#### Searching for the Translation Embedding\n",
        "Since we're approximating the translation function from English to French embeddings by a linear transformation matrix $\\mathbf{R}$, most of the time we won't get the exact embedding of a French word when we transform embedding $\\mathbf{e}$ of some particular English word into the French embedding space.\n",
        "* This is where $k$-NN becomes really useful! By using $1$-NN with $\\mathbf{eR}$ as input, we can search for an embedding $\\mathbf{f}$ (as a row) in the matrix $\\mathbf{Y}$ which is the closest to the transformed vector $\\mathbf{eR}$"
      ],
      "metadata": {
        "id": "7S18123NOQ0C"
      }
    },
    {
      "cell_type": "markdown",
      "source": [
        "#### Cosine Similarity\n",
        "Cosine similarity between vectors $u$ and $v$ calculated as the cosine of the angle between them.\n",
        "The formula is\n",
        "\n",
        "$$\\cos(u,v)=\\frac{u\\cdot v}{\\left\\|u\\right\\|\\left\\|v\\right\\|}$$\n",
        "\n",
        "* $\\cos(u,v)$ = $1$ when $u$ and $v$ lie on the same line and have the same direction.\n",
        "* $\\cos(u,v)$ is $-1$ when they have exactly opposite directions.\n",
        "* $\\cos(u,v)$ is $0$ when the vectors are orthogonal (perpendicular) to each other."
      ],
      "metadata": {
        "id": "Hx7D7t67ObeT"
      }
    },
    {
      "cell_type": "markdown",
      "source": [
        "#### Note: Distance and similarity are pretty much opposite things.\n",
        "* We can obtain distance metric from cosine similarity, but the cosine similarity can't be used directly as the distance metric.\n",
        "* When the cosine similarity increases (towards $1$), the \"distance\" between the two vectors decreases (towards $0$).\n",
        "* We can define the cosine distance between $u$ and $v$ as\n",
        "$$d_{\\text{cos}}(u,v)=1-\\cos(u,v)$$"
      ],
      "metadata": {
        "id": "PVRje9YYOhcp"
      }
    },
    {
      "cell_type": "markdown",
      "source": [
        "<a name=\"ex-5\"></a>\n",
        "### 5 - nearest_neighbor\n",
        "Complete the function `nearest_neighbor()`\n",
        "\n",
        "Inputs:\n",
        "* Vector `v`,\n",
        "* A set of possible nearest neighbors `candidates`\n",
        "* `k` nearest neighbors to find.\n",
        "* The distance metric should be based on cosine similarity.\n",
        "* `cosine_similarity` function is already implemented and imported for you. It's arguments are two vectors and it returns the cosine of the angle between them.\n",
        "* Iterate over rows in `candidates`, and save the result of similarities between current row and vector `v` in a python list. Take care that similarities are in the same order as row vectors of `candidates`.\n",
        "* Now you can use [numpy argsort]( https://docs.scipy.org/doc/numpy/reference/generated/numpy.argsort.html#numpy.argsort) to sort the indices for the rows of `candidates`."
      ],
      "metadata": {
        "id": "Rc_ymzOSOnYH"
      }
    },
    {
      "cell_type": "code",
      "source": [
        "from math import cos\n",
        "def nearest_neighbor(v, candidates, k=1, cosine_similarity=cosine_similarity):\n",
        "  \"\"\"\n",
        "    Inputs:\n",
        "      - v, the vector we are going find the nearest neighbor for\n",
        "      - candidates: a set of vectors where we will find the neighbors\n",
        "      - k: top k nearest neighbors to find\n",
        "    Output:\n",
        "    - k_idx: the indices of the top k closest vectors in sorted form (most similar first)\n",
        "  \"\"\"\n",
        "\n",
        "  similarity_l= []\n",
        "\n",
        "  #for each candidate vector\n",
        "  for row in candidates:\n",
        "    # get the cosine similarity\n",
        "    cos_similarity= cosine_similarity(v, row)\n",
        "\n",
        "    # append the similarity to the list\n",
        "    similarity_l.append(cos_similarity)\n",
        "\n",
        "  # sort the similarity list and get the indices of the sorted list\n",
        "  sorted_ids= np.argsort(similarity_l)\n",
        "\n",
        "  # reverse the order to get most similar first\n",
        "  sorted_ids= sorted_ids[::-1]\n",
        "\n",
        "  # get the indices of the k most similar candidate vectors\n",
        "  k_idx= sorted_ids[:k]\n",
        "\n",
        "  return k_idx"
      ],
      "metadata": {
        "id": "0R6XqsJPN69n"
      },
      "execution_count": 57,
      "outputs": []
    },
    {
      "cell_type": "code",
      "source": [
        "# Test your implementation:\n",
        "v = np.array([1, 0, 1])\n",
        "candidates = np.array([[1, 0, 5], [-2, 5, 3], [2, 0, 1], [6, -9, 5], [9, 9, 9]])\n",
        "print(candidates[nearest_neighbor(v, candidates, 3)])"
      ],
      "metadata": {
        "colab": {
          "base_uri": "https://localhost:8080/"
        },
        "id": "1IR-1DssQaPB",
        "outputId": "3162f704-be81-473e-aaeb-9bb50cce8966"
      },
      "execution_count": 58,
      "outputs": [
        {
          "output_type": "stream",
          "name": "stdout",
          "text": [
            "[[2 0 1]\n",
            " [1 0 5]\n",
            " [9 9 9]]\n"
          ]
        }
      ]
    },
    {
      "cell_type": "markdown",
      "source": [
        "#### **Test your Translation and Compute its Accuracy**\n",
        "\n",
        "<a name=\"ex-6\"></a>\n",
        "### 6 - test_vocabulary\n",
        "Complete the function `test_vocabulary` which takes in English\n",
        "embedding matrix $X$, French embedding matrix $Y$ and the $R$\n",
        "matrix and returns the accuracy of translations from $X$ to $Y$ by $R$.\n",
        "\n",
        "* Iterate over transformed English word embeddings and check if the\n",
        "closest French word vector belongs to French word that is the actual\n",
        "translation.\n",
        "* Obtain an index of the closest French embedding by using\n",
        "`nearest_neighbor` (with argument `k=1`), and compare it to the index\n",
        "of the English embedding you have just transformed.\n",
        "* Keep track of the number of times you get the correct translation.\n",
        "* Calculate accuracy as $$\\text{accuracy}=\\frac{\\#(\\text{correct predictions})}{\\#(\\text{total predictions})}$$"
      ],
      "metadata": {
        "id": "MA7bP6lSRG06"
      }
    },
    {
      "cell_type": "code",
      "source": [
        "def test_vocabulary(X, Y, R, nearest_neighbor= nearest_neighbor):\n",
        "  \"\"\"\n",
        "  Input:\n",
        "    X: a matrix where the columns are the English embeddings.\n",
        "    Y: a matrix where the columns correspong to the French embeddings.\n",
        "    R: the transform matrix which translates word embeddings from\n",
        "      English to French word vector space.\n",
        "  Output:\n",
        "    accuracy: for the English to French capitals\n",
        "  \"\"\"\n",
        "\n",
        "  # The predictions is X times R\n",
        "  pred= X.dot(R)\n",
        "\n",
        "  #initialize the number correct to zero\n",
        "  num_correct= 0\n",
        "\n",
        "  # loop through each row in pred (each transformed embedding)\n",
        "  for i in range(len(pred)):\n",
        "    # get the index of the nearest neighbor of pred at row \"i\", also pass in the candidates in Y\n",
        "    pred_idx= nearest_neighbor(pred[i], Y, k=1)[0]\n",
        "\n",
        "    # if the index of the nearest neighbor equals the row index \"i\"..\n",
        "    if pred_idx ==i:\n",
        "      # increment the number correct by 1\n",
        "      num_correct+=1\n",
        "\n",
        "  # accuracy is the number correct divided by the number of rows in 'pred'\n",
        "  accuracy = num_correct / len(pred)\n",
        "\n",
        "  return accuracy"
      ],
      "metadata": {
        "id": "QqvSIphDRJIj"
      },
      "execution_count": 59,
      "outputs": []
    },
    {
      "cell_type": "code",
      "source": [
        "X_val, Y_val = get_matrices(en_fr_test, fr_embeddings_subset, en_embeddings_subset)"
      ],
      "metadata": {
        "id": "lmqw_f_UUUcy"
      },
      "execution_count": 60,
      "outputs": []
    },
    {
      "cell_type": "code",
      "source": [
        "\n",
        "acc = test_vocabulary(X_val, Y_val, R_train)  # this might take a minute or two\n",
        "print(f\"accuracy on test set is {acc:.3f}\")"
      ],
      "metadata": {
        "colab": {
          "base_uri": "https://localhost:8080/"
        },
        "id": "7F11QuLOUVCn",
        "outputId": "c319d617-362c-4abd-bd7a-e42be8d521cf"
      },
      "execution_count": 61,
      "outputs": [
        {
          "output_type": "stream",
          "name": "stdout",
          "text": [
            "accuracy on test set is 0.001\n"
          ]
        }
      ]
    },
    {
      "cell_type": "markdown",
      "source": [
        "<a name=\"3\"></a>\n",
        "## **3 - LSH and Document Search**\n",
        "\n",
        "In this part of the assignment, you will implement a more efficient version\n",
        "of k-nearest neighbors using locality sensitive hashing.\n",
        "You will then apply this to document search.\n",
        "\n",
        "* Process the tweets and represent each tweet as a vector (represent a\n",
        "document with a vector embedding).\n",
        "* Use locality sensitive hashing and k nearest neighbors to find tweets\n",
        "that are similar to a given tweet."
      ],
      "metadata": {
        "id": "Mqon-1fJUksU"
      }
    },
    {
      "cell_type": "code",
      "source": [
        "# get the positive and negative tweets\n",
        "all_positive_tweets = twitter_samples.strings('positive_tweets.json')\n",
        "all_negative_tweets = twitter_samples.strings('negative_tweets.json')\n",
        "all_tweets = all_positive_tweets + all_negative_tweets"
      ],
      "metadata": {
        "id": "70hupU6hUiTG"
      },
      "execution_count": 68,
      "outputs": []
    },
    {
      "cell_type": "markdown",
      "source": [
        "<a name=\"3-1\"></a>\n",
        "### 3.1 - Getting the Document Embeddings\n",
        "\n",
        "#### **Bag-of-words (BOW) Document Models**\n",
        "Text documents are sequences of words.\n",
        "* The ordering of words makes a difference. For example, sentences \"Apple pie is\n",
        "better than pepperoni pizza.\" and \"Pepperoni pizza is better than apple pie\"\n",
        "have opposite meanings due to the word ordering.\n",
        "* However, for some applications, ignoring the order of words can allow\n",
        "us to train an efficient and still effective model.\n",
        "* This approach is called Bag-of-words document model.\n",
        "\n",
        "#### Document Embeddings\n",
        "* Document embedding is created by summing up the embeddings of all words\n",
        "in the document.\n",
        "* If we don't know the embedding of some word, we can ignore that word."
      ],
      "metadata": {
        "id": "O0yHIBVwg9dL"
      }
    },
    {
      "cell_type": "markdown",
      "source": [
        "<a name=\"ex-7\"></a>\n",
        "\n",
        "### 7 - get_document_embedding\n",
        "Complete the `get_document_embedding()` function.\n",
        "* The function `get_document_embedding()` encodes entire document as a \"document\" embedding.\n",
        "* It takes in a document (as a string) and a dictionary, `en_embeddings`\n",
        "* It processes the document, and looks up the corresponding embedding of each word.\n",
        "* It then sums them up and returns the sum of all word vectors of that processed tweet."
      ],
      "metadata": {
        "id": "POx5h_iIhgkT"
      }
    },
    {
      "cell_type": "code",
      "source": [
        "def get_document_embedding(tweet, en_embeddings, process_tweet=process_tweet):\n",
        "    '''\n",
        "    Input:\n",
        "        - tweet: a string\n",
        "        - en_embeddings: a dictionary of word embeddings\n",
        "    Output:\n",
        "        - doc_embedding: sum of all word embeddings in the tweet\n",
        "    '''\n",
        "    doc_embedding = np.zeros(300)\n",
        "\n",
        "    # process the document into a list of words (process the tweet)\n",
        "    processed_doc = process_tweet(tweet)\n",
        "\n",
        "    for word in processed_doc:\n",
        "        # add the word embedding to the running total for the document embedding\n",
        "        if word in en_embeddings:\n",
        "            doc_embedding += en_embeddings[word]\n",
        "    return doc_embedding\n"
      ],
      "metadata": {
        "id": "n_NpntDZhgYr"
      },
      "execution_count": 69,
      "outputs": []
    },
    {
      "cell_type": "code",
      "source": [
        "# Ensure NLTK resources are downloaded\n",
        "try:\n",
        "    nltk.data.find('corpora/stopwords')\n",
        "except LookupError:\n",
        "    nltk.download('stopwords')\n",
        "\n",
        "try:\n",
        "    nltk.data.find('corpora/twitter_samples')\n",
        "except LookupError:\n",
        "    nltk.download('twitter_samples')"
      ],
      "metadata": {
        "id": "FfOA4bV3jm66"
      },
      "execution_count": 79,
      "outputs": []
    },
    {
      "cell_type": "code",
      "source": [
        "# testing your function\n",
        "custom_tweet = \"RT @Twitter @chapagain Hello There! Have a great day. :) #good #morning http://chapagain.com.np\"\n",
        "tweet_embedding = get_document_embedding(custom_tweet, en_embeddings_subset)\n",
        "tweet_embedding[-5:]"
      ],
      "metadata": {
        "colab": {
          "base_uri": "https://localhost:8080/"
        },
        "id": "PXEuK-ePgtPM",
        "outputId": "d2a66137-80d9-4092-f064-c77c0b9f06b0"
      },
      "execution_count": 80,
      "outputs": [
        {
          "output_type": "execute_result",
          "data": {
            "text/plain": [
              "array([-0.00268555, -0.15378189, -0.55761719, -0.07216644, -0.32263184])"
            ]
          },
          "metadata": {},
          "execution_count": 80
        }
      ]
    },
    {
      "cell_type": "markdown",
      "source": [
        "<a name=\"ex-8\"></a>\n",
        "### 8 - get_document_vecs\n",
        "\n",
        "#### **Store all document vectors into a dictionary**\n",
        "Now, let's store all the tweet embeddings into a dictionary.\n",
        "Implement `get_document_vecs()`"
      ],
      "metadata": {
        "id": "KcaL6ATPj0kO"
      }
    },
    {
      "cell_type": "code",
      "source": [
        "def get_document_vecs(all_docs, en_embeddings, get_document_embedding= get_document_embedding):\n",
        "  \"\"\"\n",
        "  Input:\n",
        "    - all_docs: list of strings - all tweets in our dataset.\n",
        "    - en_embeddings: dictionary with words as the keys and their embeddings as the values.\n",
        "  Output:\n",
        "    - document_vec_matrix: matrix of tweet embeddings.\n",
        "    - ind2Doc_dict: dictionary with indices of tweets in vecs as keys and their embeddings as the values.\n",
        "  \"\"\"\n",
        "\n",
        "  # the dictionary's key is an index (integer) that identifies a specific tweet\n",
        "  # the value is the document embedding for that document\n",
        "  ind2Doc_dict = {}\n",
        "\n",
        "  # this is list that will store the document vectors\n",
        "  document_vec_l = []\n",
        "\n",
        "  for i, doc in enumerate(all_docs):\n",
        "    # get the document embedding of the tweet\n",
        "    doc_embedding= get_document_embedding(doc, en_embeddings)\n",
        "\n",
        "    # save the document embedding into the ind2Tweet dictionary at index i\n",
        "    ind2Doc_dict[i] = doc_embedding\n",
        "\n",
        "    # append the document embedding to the list of document vectors\n",
        "    document_vec_l.append(doc_embedding)\n",
        "\n",
        "  # convert the list of document vectors into a 2D array (each row is a document vector)\n",
        "  document_vec_matrix = np.vstack(document_vec_l)\n",
        "\n",
        "  return document_vec_matrix, ind2Doc_dict\n"
      ],
      "metadata": {
        "id": "jYGVeJodjpxH"
      },
      "execution_count": 81,
      "outputs": []
    },
    {
      "cell_type": "code",
      "source": [
        "document_vecs, ind2Tweet = get_document_vecs(all_tweets, en_embeddings_subset)\n"
      ],
      "metadata": {
        "id": "wJT9_FLdl8ob"
      },
      "execution_count": 82,
      "outputs": []
    },
    {
      "cell_type": "code",
      "source": [
        "\n",
        "print(f\"length of dictionary {len(ind2Tweet)}\")\n",
        "print(f\"shape of document_vecs {document_vecs.shape}\")"
      ],
      "metadata": {
        "colab": {
          "base_uri": "https://localhost:8080/"
        },
        "id": "ORfdMacBmALb",
        "outputId": "8e6f72ca-6c4f-46cb-8555-8d20869b18d9"
      },
      "execution_count": 83,
      "outputs": [
        {
          "output_type": "stream",
          "name": "stdout",
          "text": [
            "length of dictionary 10000\n",
            "shape of document_vecs (10000, 300)\n"
          ]
        }
      ]
    },
    {
      "cell_type": "markdown",
      "source": [
        "<a name=\"3-2\"></a>\n",
        "### 3.2 - Looking up the Tweets\n",
        "\n",
        "Now you have a vector of dimension (m,d) where `m` is the number of tweets\n",
        "(10,000) and `d` is the dimension of the embeddings (300).  Now you\n",
        "will input a tweet, and use cosine similarity to see which tweet in our\n",
        "corpus is similar to your tweet."
      ],
      "metadata": {
        "id": "kzcoFr_xmGRY"
      }
    },
    {
      "cell_type": "code",
      "source": [
        "my_tweet = 'i am sad'\n",
        "process_tweet(my_tweet)\n",
        "tweet_embedding = get_document_embedding(my_tweet, en_embeddings_subset)"
      ],
      "metadata": {
        "id": "xG5vOVLJmDWc"
      },
      "execution_count": 88,
      "outputs": []
    },
    {
      "cell_type": "code",
      "source": [
        "# this gives you a similar tweet as your input.\n",
        "# this implementation is vectorized...\n",
        "idx = np.argmax(cosine_similarity(document_vecs, tweet_embedding))\n",
        "print(all_tweets[idx])"
      ],
      "metadata": {
        "colab": {
          "base_uri": "https://localhost:8080/"
        },
        "id": "mL6_nwvRmMyU",
        "outputId": "b536b39c-7b8b-43cd-af4f-71cebfed1238"
      },
      "execution_count": 89,
      "outputs": [
        {
          "output_type": "stream",
          "name": "stdout",
          "text": [
            "@hanbined sad pray for me :(((\n"
          ]
        }
      ]
    },
    {
      "cell_type": "markdown",
      "source": [
        "<a name=\"3-3\"></a>\n",
        "### **3.3 - Finding the most Similar Tweets with LSH**\n",
        "\n",
        "You will now implement locality sensitive hashing (LSH) to identify the most similar tweet.\n",
        "* Instead of looking at all 10,000 vectors, you can just search a subset to find\n",
        "its nearest neighbors.\n",
        "\n",
        "Let's say your data points are plotted like this:\n",
        "\n",
        "\n",
        "![image.png](data:image/png;base64,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)<div style=\"width:image width px; font-size:100%; text-align:center;\"><img src='./images/one.png' alt=\"alternate text\" width=\"width\" height=\"height\" style=\"width:400px;height:200px;\" /> Figure 3 </div>\n",
        "\n",
        "You can divide the vector space into regions and search within one region for nearest neighbors of a given vector.\n",
        "![image.png](data:image/png;base64,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)"
      ],
      "metadata": {
        "id": "XEtcYwQFmc_4"
      }
    },
    {
      "cell_type": "code",
      "source": [
        "N_VECS = len(all_tweets)       # This many vectors.\n",
        "N_DIMS = len(ind2Tweet[1])     # Vector dimensionality.\n",
        "print(f\"Number of vectors is {N_VECS} and each has {N_DIMS} dimensions.\")"
      ],
      "metadata": {
        "colab": {
          "base_uri": "https://localhost:8080/"
        },
        "id": "wdGb4B35mTE-",
        "outputId": "e8927322-4bea-4855-8d7a-c8974c253a17"
      },
      "execution_count": 90,
      "outputs": [
        {
          "output_type": "stream",
          "name": "stdout",
          "text": [
            "Number of vectors is 10000 and each has 300 dimensions.\n"
          ]
        }
      ]
    },
    {
      "cell_type": "markdown",
      "source": [
        "#### Choosing the number of planes\n",
        "\n",
        "* Each plane divides the space to $2$ parts.\n",
        "* So $n$ planes divide the space into $2^{n}$ hash buckets.\n",
        "* We want to organize 10,000 document vectors into buckets so that every bucket has about $~16$ vectors.\n",
        "* For that we need $\\frac{10000}{16}=625$ buckets.\n",
        "* We're interested in $n$, number of planes, so that $2^{n}= 625$. Now, we can calculate $n=\\log_{2}625 = 9.29 \\approx 10$."
      ],
      "metadata": {
        "id": "uSnKGHFonL5d"
      }
    },
    {
      "cell_type": "code",
      "source": [
        "# The number of planes. We use log2(625) to have ~16 vectors/bucket.\n",
        "N_PLANES = 10\n",
        "# Number of times to repeat the hashing to improve the search.\n",
        "N_UNIVERSES = 25"
      ],
      "metadata": {
        "id": "RGTpjl5znMyj"
      },
      "execution_count": 91,
      "outputs": []
    },
    {
      "cell_type": "markdown",
      "source": [
        "<a name=\"3-4\"></a>\n",
        "### **3.4 - Getting the Hash Number for a Vector**\n",
        "\n",
        "For each vector, we need to get a unique number associated to that vector in order to assign it to a \"hash bucket\".\n",
        "\n",
        "#### Hyperplanes in Vector Spaces\n",
        "* In $3$-dimensional vector space, the hyperplane is a regular plane. In $2$ dimensional vector space, the hyperplane is a line.\n",
        "* Generally, the hyperplane is subspace which has dimension $1$ lower than the original vector space has.\n",
        "* A hyperplane is uniquely defined by its normal vector.\n",
        "* Normal vector $n$ of the plane $\\pi$ is the vector to which all vectors in the plane $\\pi$ are orthogonal (perpendicular in $3$ dimensional case).\n",
        "\n",
        "#### Using Hyperplanes to Split the Vector Space\n",
        "We can use a hyperplane to split the vector space into $2$ parts.\n",
        "* All vectors whose dot product with a plane's normal vector is positive are on one side of the plane.\n",
        "* All vectors whose dot product with the plane's normal vector is negative are on the other side of the plane.\n",
        "\n",
        "#### Encoding Hash Buckets\n",
        "* For a vector, we can take its dot product with all the planes, then encode this information to assign the vector to a single hash bucket.\n",
        "* When the vector is pointing to the opposite side of the hyperplane than normal, encode it by 0.\n",
        "* Otherwise, if the vector is on the same side as the normal vector, encode it by 1.\n",
        "* If you calculate the dot product with each plane in the same order for every vector, you've encoded each vector's unique hash ID as a binary number, like [0, 1, 1, ... 0]."
      ],
      "metadata": {
        "id": "X_EVrRIJnRq_"
      }
    },
    {
      "cell_type": "markdown",
      "source": [
        "<a name=\"ex-9\"></a>\n",
        "### 9 - hash_value_of_vector\n",
        "\n",
        "We've initialized hash table `hashes` for you. It is list of `N_UNIVERSES` matrices, each describes its own hash table. Each matrix has `N_DIMS` rows and `N_PLANES` columns. Every column of that matrix is a `N_DIMS`-dimensional normal vector for each of `N_PLANES` hyperplanes which are used for creating buckets of the particular hash table.\n",
        "\n",
        "*Exercise*: Your task is to complete the function `hash_value_of_vector` which places vector `v` in the correct hash bucket.\n",
        "\n",
        "* First multiply your vector `v`, with a corresponding plane. This will give you a vector of dimension $(1,\\text{N_planes})$.\n",
        "* You will then convert every element in that vector to 0 or 1.\n",
        "* You create a hash vector by doing the following: if the element is negative, it becomes a 0, otherwise you change it to a 1.\n",
        "* You then compute the unique number for the vector by iterating over `N_PLANES`\n",
        "* Then you multiply $2^i$ times the corresponding bit (0 or 1).\n",
        "* You will then store that sum in the variable `hash_value`.\n",
        "\n",
        "**Intructions:** Create a hash for the vector in the function below.\n",
        "Use this formula:\n",
        "\n",
        "$$ hash = \\sum_{i=0}^{N-1} \\left( 2^{i} \\times h_{i} \\right) $$"
      ],
      "metadata": {
        "id": "ftJz-nlenWDx"
      }
    },
    {
      "cell_type": "markdown",
      "source": [
        "#### Create the sets of planes\n",
        "* Create multiple (25) sets of planes (the planes that divide up the region).\n",
        "* You can think of these as 25 separate ways of dividing up the vector space with a different set of planes.\n",
        "* Each element of this list contains a matrix with 300 rows (the word vector have 300 dimensions), and 10 columns (there are 10 planes in each \"universe\")."
      ],
      "metadata": {
        "id": "Ow6wODjanajq"
      }
    },
    {
      "cell_type": "code",
      "source": [
        "np.random.seed(0)\n",
        "planes_l= [np.random.normal(size=(N_DIMS, N_PLANES)) for _ in range(N_UNIVERSES)]"
      ],
      "metadata": {
        "id": "ikAiA62nnQeA"
      },
      "execution_count": 92,
      "outputs": []
    },
    {
      "cell_type": "code",
      "source": [
        "# UNQ_C17 (UNIQUE CELL IDENTIFIER, DO NOT EDIT)\n",
        "def hash_value_of_vector(v, planes):\n",
        "    \"\"\"Create a hash for a vector; hash_id says which random hash to use.\n",
        "    Input:\n",
        "        - v:  vector of tweet. It's dimension is (1, N_DIMS)\n",
        "        - planes: matrix of dimension (N_DIMS, N_PLANES) - the set of planes that divide up the region\n",
        "    Output:\n",
        "        - res: a number which is used as a hash for your vector\n",
        "    \"\"\"\n",
        "    ### START CODE HERE ###\n",
        "    # for the set of planes,\n",
        "    # calculate the dot product between the vector and the matrix containing the planes\n",
        "    # remember that planes has shape (300, 10)\n",
        "    # The dot product will have the shape (1,10)\n",
        "    dot_product = np.dot(v, planes)\n",
        "\n",
        "    # get the sign of the dot product (1,10) shaped vector\n",
        "    sign_of_dot_product = np.sign(dot_product)\n",
        "\n",
        "    # set h to be false (0) if the sign is negative, true (1) if positive (including zero)\n",
        "    h = (sign_of_dot_product >= 0).astype(int)\n",
        "\n",
        "    # remove extra un-used dimensions (convert this from a 2D to a 1D array)\n",
        "    h = h.flatten()\n",
        "\n",
        "    # initialize the hash value to 0\n",
        "    hash_value = 0\n",
        "\n",
        "    n_planes = h.shape[0]\n",
        "    for i in range(n_planes):\n",
        "        # increment the hash value by 2^i * h_i\n",
        "        hash_value += (2 ** i) * h[i]\n",
        "\n",
        "    ### END CODE HERE ###\n",
        "\n",
        "    # cast hash_value as an integer\n",
        "    hash_value = int(hash_value)\n",
        "\n",
        "    return hash_value\n"
      ],
      "metadata": {
        "id": "0urGGgWhnwwH"
      },
      "execution_count": 93,
      "outputs": []
    },
    {
      "cell_type": "code",
      "source": [
        "\n",
        "np.random.seed(0)\n",
        "idx = 0\n",
        "planes = planes_l[idx]  # get one 'universe' of planes to test the function\n",
        "vec = np.random.rand(1, 300)\n",
        "print(f\" The hash value for this vector,\",\n",
        "      f\"and the set of planes at index {idx},\",\n",
        "      f\"is {hash_value_of_vector(vec, planes)}\")"
      ],
      "metadata": {
        "colab": {
          "base_uri": "https://localhost:8080/"
        },
        "id": "-nUOA8MutbYy",
        "outputId": "d0b69eb8-a026-4889-c67c-f381a7cd5635"
      },
      "execution_count": 94,
      "outputs": [
        {
          "output_type": "stream",
          "name": "stdout",
          "text": [
            " The hash value for this vector, and the set of planes at index 0, is 768\n"
          ]
        }
      ]
    },
    {
      "cell_type": "markdown",
      "source": [
        "<a name=\"3-5\"></a>\n",
        "### **3.5 - Creating a Hash Table**\n",
        "\n",
        "<a name=\"ex-10\"></a>\n",
        "### Exercise 10 - make_hash_table\n",
        "\n",
        "Given that you have a unique number for each vector (or tweet), You now want to create a hash table. You need a hash table, so that given a hash_id, you can quickly look up the corresponding vectors. This allows you to reduce your search by a significant amount of time.\n",
        "\n",
        "![image.png](data:image/png;base64,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)\n",
        "\n",
        "We have given you the `make_hash_table` function, which maps the tweet vectors to a bucket and stores the vector there. It returns the `hash_table` and the `id_table`. The `id_table` allows you know which vector in a certain bucket corresponds to what tweet."
      ],
      "metadata": {
        "id": "DnXm95LGttbx"
      }
    },
    {
      "cell_type": "code",
      "source": [
        "\n",
        "# This is the code used to create a hash table:\n",
        "\n",
        "def make_hash_table(vecs, planes, hash_value_of_vector=hash_value_of_vector):\n",
        "    \"\"\"\n",
        "    Input:\n",
        "        - vecs: list of vectors to be hashed.\n",
        "        - planes: the matrix of planes in a single \"universe\", with shape (embedding dimensions, number of planes).\n",
        "    Output:\n",
        "        - hash_table: dictionary - keys are hashes, values are lists of vectors (hash buckets)\n",
        "        - id_table: dictionary - keys are hashes, values are list of vectors id's\n",
        "                            (it's used to know which tweet corresponds to the hashed vector)\n",
        "    \"\"\"\n",
        "    # number of planes is the number of columns in the planes matrix\n",
        "    num_of_planes = planes.shape[1]\n",
        "\n",
        "    # number of buckets is 2^(number of planes)\n",
        "    # ALTERNATIVE SOLUTION COMMENT:\n",
        "    # num_buckets = pow(2, num_of_planes)\n",
        "    num_buckets = 2**num_of_planes\n",
        "\n",
        "    # create the hash table as a dictionary.\n",
        "    # Keys are integers (0,1,2.. number of buckets)\n",
        "    # Values are empty lists\n",
        "    hash_table = {i: [] for i in range(num_buckets)}\n",
        "\n",
        "    # create the id table as a dictionary.\n",
        "    # Keys are integers (0,1,2... number of buckets)\n",
        "    # Values are empty lists\n",
        "    id_table = {i: [] for i in range(num_buckets)}\n",
        "\n",
        "    # for each vector in 'vecs'\n",
        "    for i, v in enumerate(vecs):\n",
        "        # calculate the hash value for the vector\n",
        "        h = hash_value_of_vector(v, planes)\n",
        "\n",
        "        # store the vector into hash_table at key h,\n",
        "        # by appending the vector v to the list at key h\n",
        "        hash_table[h].append(v) #\n",
        "\n",
        "        # store the vector's index 'i' (each document is given a unique integer 0,1,2...)\n",
        "        # the key is the h, and the 'i' is appended to the list at key h\n",
        "        id_table[h].append(i) #\n",
        "\n",
        "    return hash_table, id_table"
      ],
      "metadata": {
        "id": "XY6Q1g6RvOzT"
      },
      "execution_count": 98,
      "outputs": []
    },
    {
      "cell_type": "code",
      "source": [
        "\n",
        "planes = planes_l[0]  # get one 'universe' of planes to test the function\n",
        "tmp_hash_table, tmp_id_table = make_hash_table(document_vecs, planes)\n",
        "\n",
        "print(f\"The hash table at key 0 has {len(tmp_hash_table[0])} document vectors\")\n",
        "print(f\"The id table at key 0 has {len(tmp_id_table[0])} document indices\")\n",
        "print(f\"The first 5 document indices stored at key 0 of id table are {tmp_id_table[0][0:5]}\")"
      ],
      "metadata": {
        "colab": {
          "base_uri": "https://localhost:8080/"
        },
        "id": "3NK2mjVnvLxy",
        "outputId": "40520160-2b26-4126-d40d-832f7bf9984e"
      },
      "execution_count": 99,
      "outputs": [
        {
          "output_type": "stream",
          "name": "stdout",
          "text": [
            "The hash table at key 0 has 3 document vectors\n",
            "The id table at key 0 has 3 document indices\n",
            "The first 5 document indices stored at key 0 of id table are [3276, 3281, 3282]\n"
          ]
        }
      ]
    },
    {
      "cell_type": "markdown",
      "source": [
        "<a name=\"3-6\"></a>\n",
        "### **3.6 - Creating all Hash Tables**\n",
        "\n",
        "You can now hash your vectors and store them in a hash table that\n",
        "would allow you to quickly look up and search for similar vectors.\n",
        "Run the cell below to create the hashes. By doing so, you end up having\n",
        "several tables which have all the vectors. Given a vector, you then\n",
        "identify the buckets in all the tables.  You can then iterate over the\n",
        "buckets and consider much fewer vectors. The more tables you use, the\n",
        "more accurate your lookup will be, but also the longer it will take."
      ],
      "metadata": {
        "id": "Ax1fDDuMvamV"
      }
    },
    {
      "cell_type": "code",
      "source": [
        "# Creating the hashtables\n",
        "def create_hash_id_tables(n_universes):\n",
        "    hash_tables = []\n",
        "    id_tables = []\n",
        "    for universe_id in range(n_universes):  # there are 25 hashes\n",
        "        print('working on hash universe #:', universe_id)\n",
        "        planes = planes_l[universe_id]\n",
        "        hash_table, id_table = make_hash_table(document_vecs, planes)\n",
        "        hash_tables.append(hash_table)\n",
        "        id_tables.append(id_table)\n",
        "\n",
        "    return hash_tables, id_tables\n",
        "\n",
        "hash_tables, id_tables = create_hash_id_tables(N_UNIVERSES)"
      ],
      "metadata": {
        "colab": {
          "base_uri": "https://localhost:8080/"
        },
        "id": "vKi3Ab2ivcmF",
        "outputId": "9f4b394d-0333-45d7-dfbb-cb51be28483a"
      },
      "execution_count": 100,
      "outputs": [
        {
          "output_type": "stream",
          "name": "stdout",
          "text": [
            "working on hash universe #: 0\n",
            "working on hash universe #: 1\n",
            "working on hash universe #: 2\n",
            "working on hash universe #: 3\n",
            "working on hash universe #: 4\n",
            "working on hash universe #: 5\n",
            "working on hash universe #: 6\n",
            "working on hash universe #: 7\n",
            "working on hash universe #: 8\n",
            "working on hash universe #: 9\n",
            "working on hash universe #: 10\n",
            "working on hash universe #: 11\n",
            "working on hash universe #: 12\n",
            "working on hash universe #: 13\n",
            "working on hash universe #: 14\n",
            "working on hash universe #: 15\n",
            "working on hash universe #: 16\n",
            "working on hash universe #: 17\n",
            "working on hash universe #: 18\n",
            "working on hash universe #: 19\n",
            "working on hash universe #: 20\n",
            "working on hash universe #: 21\n",
            "working on hash universe #: 22\n",
            "working on hash universe #: 23\n",
            "working on hash universe #: 24\n"
          ]
        }
      ]
    },
    {
      "cell_type": "markdown",
      "source": [
        "#### **Approximate K-NN**\n",
        "\n",
        "<a name=\"ex-11\"></a>\n",
        "### 11 - approximate_knn\n",
        "\n",
        "Implement approximate K nearest neighbors using locality sensitive hashing,\n",
        "to search for documents that are similar to a given document at the\n",
        "index `doc_id`.\n",
        "\n",
        "##### Inputs\n",
        "* `doc_id` is the index into the document list `all_tweets`.\n",
        "* `v` is the document vector for the tweet in `all_tweets` at index `doc_id`.\n",
        "* `planes_l` is the list of planes (the global variable created earlier).\n",
        "* `k` is the number of nearest neighbors to search for.\n",
        "* `num_universes_to_use`: to save time, we can use fewer than the total\n",
        "number of available universes.  By default, it's set to `N_UNIVERSES`,\n",
        "which is $25$ for this assignment.\n",
        "* `hash_tables`: list with hash tables for each universe.\n",
        "* `id_tables`: list with id tables for each universe.\n",
        "\n",
        "The `approximate_knn` function finds a subset of candidate vectors that\n",
        "are in the same \"hash bucket\" as the input vector 'v'.  Then it performs\n",
        "the usual k-nearest neighbors search on this subset (instead of searching\n",
        "through all 10,000 tweets)."
      ],
      "metadata": {
        "id": "xreu67wdvuzC"
      }
    },
    {
      "cell_type": "code",
      "source": [
        "def approximate_knn(doc_id, v, planes_l, hash_tables, id_tables, k=1, num_universes_to_use=25, hash_value_of_vector=hash_value_of_vector):\n",
        "    \"\"\"Search for k-NN using hashes.\"\"\"\n",
        "    #assert num_universes_to_use <= N_UNIVERSES\n",
        "\n",
        "    # Vectors that will be checked as possible nearest neighbor\n",
        "    vecs_to_consider_l = list()\n",
        "\n",
        "    # list of document IDs\n",
        "    ids_to_consider_l = list()\n",
        "\n",
        "    # create a set for ids to consider, for faster checking if a document ID already exists in the set\n",
        "    ids_to_consider_set = set()\n",
        "\n",
        "    # loop through the universes of planes\n",
        "    for universe_id in range(num_universes_to_use):\n",
        "\n",
        "        # get the set of planes from the planes_l list, for this particular universe_id\n",
        "        planes = planes_l[universe_id]\n",
        "\n",
        "        # get the hash value of the vector for this set of planes\n",
        "        hash_value = hash_value_of_vector(v, planes)\n",
        "\n",
        "        # get the hash table for this particular universe_id\n",
        "        hash_table = hash_tables[universe_id]\n",
        "\n",
        "        # get the list of document vectors for this hash table, where the key is the hash_value\n",
        "        document_vectors_l = hash_table[hash_value]\n",
        "\n",
        "        # get the id_table for this particular universe_id\n",
        "        id_table = id_tables[universe_id]\n",
        "\n",
        "        # get the subset of documents to consider as nearest neighbors from this id_table dictionary\n",
        "        new_ids_to_consider = id_table[hash_value]\n",
        "\n",
        "        # loop through the subset of document vectors to consider\n",
        "        for i, new_id in enumerate(new_ids_to_consider):\n",
        "\n",
        "            if doc_id == new_id:\n",
        "                continue\n",
        "\n",
        "            # if the document ID is not yet in the set ids_to_consider...\n",
        "            if new_id not in ids_to_consider_set:\n",
        "                # access document_vectors_l list at index i to get the embedding\n",
        "                # then append it to the list of vectors to consider as possible nearest neighbors\n",
        "                document_vector_at_i = document_vectors_l[i]\n",
        "                vecs_to_consider_l.append(document_vector_at_i)\n",
        "\n",
        "                # append the new_id (the index for the document) to the list of ids to consider\n",
        "                ids_to_consider_l.append(new_id)\n",
        "\n",
        "                # also add the new_id to the set of ids to consider\n",
        "                # (use this to check if new_id is not already in the IDs to consider)\n",
        "                ids_to_consider_set.add(new_id)\n",
        "\n",
        "    # Now run k-NN on the smaller set of vecs-to-consider.\n",
        "    print(\"Fast considering %d vecs\" % len(vecs_to_consider_l))\n",
        "\n",
        "    # convert the vecs to consider set to a list, then to a numpy array\n",
        "    vecs_to_consider_arr = np.array(vecs_to_consider_l)\n",
        "\n",
        "    # call nearest neighbors on the reduced list of candidate vectors\n",
        "    nearest_neighbor_idx_l = nearest_neighbor(v, vecs_to_consider_arr, k=k)\n",
        "\n",
        "    # Use the nearest neighbor index list as indices into the ids to consider\n",
        "    # create a list of nearest neighbors by the document ids\n",
        "    nearest_neighbor_ids = [ids_to_consider_l[idx]\n",
        "                            for idx in nearest_neighbor_idx_l]\n",
        "\n",
        "    return nearest_neighbor_ids"
      ],
      "metadata": {
        "id": "z3Gx8aYRvw2c"
      },
      "execution_count": 101,
      "outputs": []
    },
    {
      "cell_type": "code",
      "source": [
        "#document_vecs, ind2Tweet\n",
        "doc_id = 0\n",
        "doc_to_search = all_tweets[doc_id]\n",
        "vec_to_search = document_vecs[doc_id]"
      ],
      "metadata": {
        "id": "LRyJ4uE9xp3Z"
      },
      "execution_count": 102,
      "outputs": []
    },
    {
      "cell_type": "code",
      "source": [
        "\n",
        "# Sample\n",
        "nearest_neighbor_ids = approximate_knn(\n",
        "    doc_id, vec_to_search, planes_l, hash_tables, id_tables, k=3, num_universes_to_use=5)"
      ],
      "metadata": {
        "id": "E9RZtAttxrUL",
        "outputId": "76aa5e59-213e-47c7-c6d8-ea3eabdc5cbc",
        "colab": {
          "base_uri": "https://localhost:8080/"
        }
      },
      "execution_count": 103,
      "outputs": [
        {
          "output_type": "stream",
          "name": "stdout",
          "text": [
            "Fast considering 77 vecs\n"
          ]
        }
      ]
    },
    {
      "cell_type": "code",
      "source": [
        "print(f\"Nearest neighbors for document {doc_id}\")\n",
        "print(f\"Document contents: {doc_to_search}\")\n",
        "print(\"\")\n",
        "\n",
        "for neighbor_id in nearest_neighbor_ids:\n",
        "    print(f\"Nearest neighbor at document id {neighbor_id}\")\n",
        "    print(f\"document contents: {all_tweets[neighbor_id]}\")"
      ],
      "metadata": {
        "id": "WnO2dIvvxtz8",
        "outputId": "85d7f7ba-19ae-4069-978d-1e8a5f17ffbf",
        "colab": {
          "base_uri": "https://localhost:8080/"
        }
      },
      "execution_count": 104,
      "outputs": [
        {
          "output_type": "stream",
          "name": "stdout",
          "text": [
            "Nearest neighbors for document 0\n",
            "Document contents: #FollowFriday @France_Inte @PKuchly57 @Milipol_Paris for being top engaged members in my community this week :)\n",
            "\n",
            "Nearest neighbor at document id 2478\n",
            "document contents: #ShareTheLove @oymgroup @musicartisthere for being top HighValue members this week :) @nataliavas http://t.co/IWSDMtcayt\n",
            "Nearest neighbor at document id 51\n",
            "document contents: #FollowFriday @France_Espana @reglisse_menthe @CCI_inter for being top engaged members in my community this week :)\n",
            "Nearest neighbor at document id 105\n",
            "document contents: #FollowFriday @straz_das @DCarsonCPA @GH813600 for being top engaged members in my community this week :)\n"
          ]
        }
      ]
    }
  ]
}